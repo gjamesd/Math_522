{
 "cells": [
  {
   "cell_type": "markdown",
   "metadata": {},
   "source": [
    "## James Griffin\n",
    "### Midterm \n"
   ]
  },
  {
   "cell_type": "code",
   "execution_count": 1,
   "metadata": {},
   "outputs": [],
   "source": [
    "import numpy as np\n",
    "import matplotlib.pyplot as plt \n",
    "from scipy import optimize\n",
    "import sympy as sy\n",
    "from sympy import symbols\n",
    "from math import cos, sqrt, sin "
   ]
  },
  {
   "cell_type": "markdown",
   "metadata": {},
   "source": [
    "(1) Numerically find the minimum (HINT: there are 2) of the following function using at least\n",
    "2 different methods (for example BFGS vs. Adam).\n",
    "\n",
    "You may restrict your domain to x1 ∈ [−3, 3] and x2 ∈ [−2, 2]. Include evidence of the\n",
    "convergence of your numerical method, and comparisons between the two methods that\n",
    "you chose. Discuss why you think one of them works better than the other (or can you\n",
    "tell?)."
   ]
  },
  {
   "cell_type": "code",
   "execution_count": 2,
   "metadata": {},
   "outputs": [],
   "source": [
    "## building fucntions \n",
    "x1,x2 = sy.symbols('x1, x2', real=True)\n",
    "f_1 = (4 - 2.1*x1**2 + (1/3)*x1**4)*x1**2 + (x1*x2) + (x2**2)*(4*x2**2 -4)\n",
    "\n",
    "f1p = sy.lambdify((x1,x2), f_1)\n",
    "f1 = lambda x: f1p(x[0], x[1])"
   ]
  },
  {
   "cell_type": "code",
   "execution_count": 3,
   "metadata": {},
   "outputs": [],
   "source": [
    "#getting derivative   \n",
    "\n",
    "Df1 = f_1.diff(x1)\n",
    "Df2 = f_1.diff(x2)\n",
    "\n",
    "Df1_lambdified = sy.lambdify((x1,x2),sy.Matrix([Df1, Df2]))\n",
    "df1 = lambda x: Df1_lambdified(x[0],x[1])[:,0]"
   ]
  },
  {
   "cell_type": "code",
   "execution_count": null,
   "metadata": {},
   "outputs": [],
   "source": []
  },
  {
   "cell_type": "markdown",
   "metadata": {},
   "source": [
    "Ok now that we have the function, we want to look at the different partial derivatives  and the hessian  "
   ]
  },
  {
   "cell_type": "code",
   "execution_count": 4,
   "metadata": {},
   "outputs": [],
   "source": [
    "Df1_x1 = f_1.diff(x1).expand()\n",
    "Df1_x1x2 = Df1_x1.diff(x2).expand()\n",
    "Df1_x2 = f_1.diff(x2).expand()\n",
    "Df1_x2x1 = Df1_x2.diff(x1).expand()"
   ]
  },
  {
   "cell_type": "code",
   "execution_count": 5,
   "metadata": {},
   "outputs": [
    {
     "name": "stdout",
     "output_type": "stream",
     "text": [
      "This is the Hesssian for Q1 just to  see \n"
     ]
    },
    {
     "data": {
      "text/latex": [
       "$\\displaystyle \\left[\\begin{matrix}10.0 x_{1}^{4} - 25.2 x_{1}^{2} + 8 & 1\\\\1 & 48 x_{2}^{2} - 8\\end{matrix}\\right]$"
      ],
      "text/plain": [
       "Matrix([\n",
       "[10.0*x1**4 - 25.2*x1**2 + 8,            1],\n",
       "[                          1, 48*x2**2 - 8]])"
      ]
     },
     "execution_count": 5,
     "metadata": {},
     "output_type": "execute_result"
    }
   ],
   "source": [
    "hessian_f1 = sy.hessian(f_1, (x1, x2)).expand()\n",
    "print(\"This is the Hesssian for Q1 just to  see \")\n",
    "hessian_f1"
   ]
  },
  {
   "cell_type": "markdown",
   "metadata": {},
   "source": [
    "Turning these into lambified fucntions and into an array "
   ]
  },
  {
   "cell_type": "code",
   "execution_count": 6,
   "metadata": {},
   "outputs": [],
   "source": [
    "def get_lambda_func(func):\n",
    "    func_p = sy.lambdify((x1,x2), func)\n",
    "    func_l = lambda x: func_p(x[0], x[1])\n",
    "    return func_l\n",
    "\n",
    "df1_x1_l = get_lambda_func(Df1_x1)\n",
    "df1_x1x2_l = get_lambda_func(Df1_x1x2)\n",
    "df1_x2_l= get_lambda_func(Df1_x2)\n",
    "df1_x2x1_l = get_lambda_func(Df1_x2x1)\n",
    "\n",
    "\n",
    "hessian_1 = np.array([df1_x1_l, df1_x1x2_l, df1_x2_l, df1_x2x1_l])"
   ]
  },
  {
   "cell_type": "markdown",
   "metadata": {},
   "source": [
    "ok going to code up bfgs"
   ]
  },
  {
   "cell_type": "code",
   "execution_count": 7,
   "metadata": {},
   "outputs": [],
   "source": [
    "\n",
    "def bfgs(df, x0, maxiter = 1000, alpha = .01, eps =1e-10):\n",
    "    '''\n",
    "    takes  in a derivative, a sttarting guess,  \n",
    "    and then all other parameters are  default from  \n",
    "    standard literature  pracice \n",
    "    '''\n",
    "    r = x0\n",
    "    print(r)\n",
    "    min_vals = []\n",
    "    #counter starts  at 0 \n",
    "    iters = 0\n",
    "    #set x old to initial guess \n",
    "    x_old = x0\n",
    "    #\n",
    "    s_old = np.ones(len(x0))\n",
    "    u_old = np.ones(len(df(x0)))\n",
    "    \n",
    "    #evaluate  derivative at initialg uesss \n",
    "    g_old = df(x0)\n",
    "    \n",
    "    #calculate old hessia  \n",
    "    H_old = (s_old.T@u_old / np.linalg.norm(u_old)) * np.eye(df(x0).shape[0])\n",
    "    \n",
    "    conv = []\n",
    "    #we  want  to find two minimizing values \n",
    "    \n",
    "    #because we want to look for two minimizers \n",
    "    #until we have two  \n",
    "    while len(min_vals)<2:\n",
    "        \n",
    "        #iterate \n",
    "        for i in range(maxiter):\n",
    "            \n",
    "            #if we have  found a min \n",
    "            if len(min_vals)==1:\n",
    "                print(min_vals)\n",
    "                #reset everything \n",
    "                x_old = np.random.choice(np.linspace(-2,2), 2)\n",
    "                print(x_old)\n",
    "        \n",
    "                s_old = np.ones(len(x0))\n",
    "                u_old = np.ones(len(df(x0)))\n",
    "\n",
    "                #evaluate  derivative at initialg uesss \n",
    "                g_old = df(x0)\n",
    "\n",
    "                #calculate old hessia  \n",
    "                H_old = (s_old.T@u_old / np.linalg.norm(u_old)) * np.eye(df(x0).shape[0])\n",
    "                H_new = (np.eye(len(x_old)) - (np.outer(s_old,u_old) / np.inner(s_old,u_old))) @ H_old @ (np.eye(len(x_old)) - (np.outer(u_old,s_old)/np.inner(u_old,s_old))) + np.outer(s_old,s_old) / (u_old@s_old)\n",
    "\n",
    "                x_new = x_old - alpha*g_old@H_new\n",
    "                #to go again \n",
    "                break\n",
    "\n",
    "        \n",
    "            #new hessian \n",
    "            H_new = (np.eye(len(x_old)) - (np.outer(s_old,u_old) / np.inner(s_old,u_old))) @ H_old @ (np.eye(len(x_old)) - (np.outer(u_old,s_old)/np.inner(u_old,s_old))) + np.outer(s_old,s_old) / (u_old@s_old)\n",
    "\n",
    "            #\n",
    "            x_new = x_old - alpha*g_old@H_new\n",
    "            g_new = df(x_new)\n",
    "\n",
    "            #using the norm  difference of the two to be our  convergence condition \n",
    "            conv.append(np.linalg.norm(x_new - x_old))\n",
    "            \n",
    "            #increment \n",
    "            iters += 1\n",
    "            \n",
    "            #check stopping condition \n",
    "            if np.linalg.norm(H_new-H_old)<eps:\n",
    "                break\n",
    "            if g_new.all() == 0:\n",
    "                break\n",
    "\n",
    "            #update values \n",
    "            s_old = (x_new - x_old)\n",
    "            u_old = (g_new - g_old)\n",
    "            g_old = g_new\n",
    "            x_old = x_new\n",
    "            H_old = H_new\n",
    "        \n",
    "        #want to make sure it is 2000 \n",
    "        print(iters)\n",
    "        min_vals.append(x_new)\n",
    "\n",
    "    print(\" \")\n",
    "\n",
    "    return min_vals, conv\n",
    "        "
   ]
  },
  {
   "cell_type": "code",
   "execution_count": 8,
   "metadata": {},
   "outputs": [
    {
     "name": "stdout",
     "output_type": "stream",
     "text": [
      "[1.51020408 1.83673469]\n",
      "1000\n",
      "[array([1.60710693, 0.56867184])]\n",
      "[-0.85714286  0.44897959]\n",
      "1000\n",
      " \n"
     ]
    }
   ],
   "source": [
    "bfgs_f1_pt, bfgs_f1_conv = bfgs(df1, np.random.choice(np.linspace(-2,2), 2), alpha = .01)"
   ]
  },
  {
   "cell_type": "code",
   "execution_count": 9,
   "metadata": {},
   "outputs": [
    {
     "name": "stdout",
     "output_type": "stream",
     "text": [
      "Here are my answerss for x1, x2 for minimizing the function\n"
     ]
    },
    {
     "data": {
      "text/plain": [
       "[array([1.60710693, 0.56867184]), array([-0.68753022, -0.58719004])]"
      ]
     },
     "execution_count": 9,
     "metadata": {},
     "output_type": "execute_result"
    }
   ],
   "source": [
    "print(\"Here are my answerss for x1, x2 for minimizing the function\")\n",
    "bfgs_f1_pt"
   ]
  },
  {
   "cell_type": "code",
   "execution_count": null,
   "metadata": {},
   "outputs": [],
   "source": []
  },
  {
   "cell_type": "markdown",
   "metadata": {},
   "source": [
    "## talk about findings "
   ]
  },
  {
   "cell_type": "markdown",
   "metadata": {},
   "source": [
    "now using atom  \n"
   ]
  },
  {
   "cell_type": "code",
   "execution_count": 10,
   "metadata": {},
   "outputs": [],
   "source": [
    "def adam(f,df,x0, b1=.9, b2=.999, e=.01, m=.9, eta=.01,  N=1000, eps = 1e-12):\n",
    "    '''\n",
    "    takes in funcion,  \n",
    "    derivative, \n",
    "    inittial guess \n",
    "    \n",
    "    all other inputs are set to default by industry andl iterature defaults\n",
    "    '''\n",
    "    \n",
    "    mins = []\n",
    "    \n",
    "    iteration = 0\n",
    "    fs = []\n",
    "    xold = x0\n",
    "    g = df(xold)\n",
    "    m = b1*np.zeros(len(x0))+(1-b1)*df(xold)\n",
    "    v = np.sqrt((1-b2)*df(xold)**2)\n",
    "    xnew = xold  - eta*(sqrt(1-b2))/(1-b1)*m/(v+e)\n",
    "    \n",
    "    while len(mins)<2:\n",
    "        #iterate \n",
    "        for i in range(N):\n",
    "            \n",
    "            if len(mins)==1:\n",
    "                fs = []\n",
    "                xold = np.random.choice(np.linspace(-2,2), 2)\n",
    "                g = df(xold)\n",
    "                m = b1*np.zeros(len(x0))+(1-b1)*df(xold)\n",
    "                v = np.sqrt((1-b2)*df(xold)**2)\n",
    "                xnew = xold  - eta*(sqrt(1-b2))/(1-b1)*m/(v+e)\n",
    "                \n",
    "                break\n",
    "            #print(type(xold))\n",
    "            m = b1*m + (1-b1)*df(xold)\n",
    "            v = np.sqrt((b2*v)+(1-b2)*df(xold)**2)\n",
    "            #print(type(v))\n",
    "            xnew =  xold - eta*((sqrt(1-b2))/(1-b1))*m/(v+e)\n",
    "            iteration += 1 \n",
    "            fs.append(np.linalg.norm(xnew-xold))\n",
    "        \n",
    "        print(iteration)   \n",
    "        mins.append(xnew)\n",
    "    return mins,"
   ]
  },
  {
   "cell_type": "code",
   "execution_count": 75,
   "metadata": {},
   "outputs": [
    {
     "name": "stdout",
     "output_type": "stream",
     "text": [
      "1000\n",
      "1000\n"
     ]
    }
   ],
   "source": [
    "adam_f1_point = adam(f1, df1, np.random.choice(np.linspace(-2,2), 2), e=1e-8, eta=.1, N=1000, eps = 1e-12)"
   ]
  },
  {
   "cell_type": "code",
   "execution_count": 76,
   "metadata": {},
   "outputs": [
    {
     "name": "stdout",
     "output_type": "stream",
     "text": [
      "ADAM approximation of min values \n"
     ]
    },
    {
     "data": {
      "text/plain": [
       "([array([ 1.67560964, -0.78077785]), array([-1.28367342,  0.75714287])],)"
      ]
     },
     "execution_count": 76,
     "metadata": {},
     "output_type": "execute_result"
    }
   ],
   "source": [
    "print(\"ADAM approximation of min values \")\n",
    "adam_f1_point"
   ]
  },
  {
   "cell_type": "code",
   "execution_count": 13,
   "metadata": {},
   "outputs": [
    {
     "data": {
      "text/plain": [
       "[array([1.60710693, 0.56867184]), array([-0.68753022, -0.58719004])]"
      ]
     },
     "execution_count": 13,
     "metadata": {},
     "output_type": "execute_result"
    }
   ],
   "source": [
    "bfgs_f1_pt"
   ]
  },
  {
   "cell_type": "markdown",
   "metadata": {},
   "source": [
    "# Question 2 \n",
    "\n",
    "2) This is the same as the previous problem, but now for the function"
   ]
  },
  {
   "cell_type": "code",
   "execution_count": 77,
   "metadata": {},
   "outputs": [],
   "source": [
    "from sympy import cos, sqrt\n",
    "f_2 = (1+cos(12*(sqrt(x1**2 + x2**2))))/(2+.5*(x1**2 + x2**2))\n",
    "\n",
    "f2p = sy.lambdify((x1,x2), f_1)\n",
    "f2 = lambda x: f2p(x[0], x[1])"
   ]
  },
  {
   "cell_type": "code",
   "execution_count": 81,
   "metadata": {},
   "outputs": [],
   "source": [
    "#getting derivative   \n",
    "\n",
    "Df_21 = f_2.diff(x1)\n",
    "Df_22 = f_2.diff(x2)\n",
    "\n",
    "Df2_lambdified = sy.lambdify((x1,x2),sy.Matrix([Df_21, Df_22]))\n",
    "df2 = lambda x: Df2_lambdified(x[0],x[1])[:,0]"
   ]
  },
  {
   "cell_type": "code",
   "execution_count": 82,
   "metadata": {},
   "outputs": [
    {
     "name": "stdout",
     "output_type": "stream",
     "text": [
      "This is the Hesssian for Q1 just to  see \n"
     ]
    },
    {
     "data": {
      "text/latex": [
       "$\\displaystyle \\left[\\begin{matrix}\\frac{0.25 x_{1}^{2} \\cos{\\left(12 \\sqrt{x_{1}^{2} + x_{2}^{2}} \\right)}}{0.015625 x_{1}^{6} + 0.046875 x_{1}^{4} x_{2}^{2} + 0.1875 x_{1}^{4} + 0.046875 x_{1}^{2} x_{2}^{4} + 0.375 x_{1}^{2} x_{2}^{2} + 0.75 x_{1}^{2} + 0.015625 x_{2}^{6} + 0.1875 x_{2}^{4} + 0.75 x_{2}^{2} + 1} + \\frac{0.25 x_{1}^{2}}{0.015625 x_{1}^{6} + 0.046875 x_{1}^{4} x_{2}^{2} + 0.1875 x_{1}^{4} + 0.046875 x_{1}^{2} x_{2}^{4} + 0.375 x_{1}^{2} x_{2}^{2} + 0.75 x_{1}^{2} + 0.015625 x_{2}^{6} + 0.1875 x_{2}^{4} + 0.75 x_{2}^{2} + 1} + \\frac{6.0 x_{1}^{2} \\sin{\\left(12 \\sqrt{x_{1}^{2} + x_{2}^{2}} \\right)}}{0.0625 x_{1}^{4} \\sqrt{x_{1}^{2} + x_{2}^{2}} + 0.125 x_{1}^{2} x_{2}^{2} \\sqrt{x_{1}^{2} + x_{2}^{2}} + 0.5 x_{1}^{2} \\sqrt{x_{1}^{2} + x_{2}^{2}} + 0.0625 x_{2}^{4} \\sqrt{x_{1}^{2} + x_{2}^{2}} + 0.5 x_{2}^{2} \\sqrt{x_{1}^{2} + x_{2}^{2}} + \\sqrt{x_{1}^{2} + x_{2}^{2}}} + \\frac{12 x_{1}^{2} \\sin{\\left(12 \\sqrt{x_{1}^{2} + x_{2}^{2}} \\right)}}{0.5 x_{1}^{4} \\sqrt{x_{1}^{2} + x_{2}^{2}} + 1.0 x_{1}^{2} x_{2}^{2} \\sqrt{x_{1}^{2} + x_{2}^{2}} + 2 x_{1}^{2} \\sqrt{x_{1}^{2} + x_{2}^{2}} + 0.5 x_{2}^{4} \\sqrt{x_{1}^{2} + x_{2}^{2}} + 2 x_{2}^{2} \\sqrt{x_{1}^{2} + x_{2}^{2}}} - \\frac{144 x_{1}^{2} \\cos{\\left(12 \\sqrt{x_{1}^{2} + x_{2}^{2}} \\right)}}{0.5 x_{1}^{4} + 1.0 x_{1}^{2} x_{2}^{2} + 2 x_{1}^{2} + 0.5 x_{2}^{4} + 2 x_{2}^{2}} - \\frac{0.25 \\cos{\\left(12 \\sqrt{x_{1}^{2} + x_{2}^{2}} \\right)}}{0.0625 x_{1}^{4} + 0.125 x_{1}^{2} x_{2}^{2} + 0.5 x_{1}^{2} + 0.0625 x_{2}^{4} + 0.5 x_{2}^{2} + 1} - \\frac{0.25}{0.0625 x_{1}^{4} + 0.125 x_{1}^{2} x_{2}^{2} + 0.5 x_{1}^{2} + 0.0625 x_{2}^{4} + 0.5 x_{2}^{2} + 1} - \\frac{12 \\sin{\\left(12 \\sqrt{x_{1}^{2} + x_{2}^{2}} \\right)}}{0.5 x_{1}^{2} \\sqrt{x_{1}^{2} + x_{2}^{2}} + 0.5 x_{2}^{2} \\sqrt{x_{1}^{2} + x_{2}^{2}} + 2 \\sqrt{x_{1}^{2} + x_{2}^{2}}} & \\frac{0.25 x_{1} x_{2} \\cos{\\left(12 \\sqrt{x_{1}^{2} + x_{2}^{2}} \\right)}}{0.015625 x_{1}^{6} + 0.046875 x_{1}^{4} x_{2}^{2} + 0.1875 x_{1}^{4} + 0.046875 x_{1}^{2} x_{2}^{4} + 0.375 x_{1}^{2} x_{2}^{2} + 0.75 x_{1}^{2} + 0.015625 x_{2}^{6} + 0.1875 x_{2}^{4} + 0.75 x_{2}^{2} + 1} + \\frac{0.25 x_{1} x_{2}}{0.015625 x_{1}^{6} + 0.046875 x_{1}^{4} x_{2}^{2} + 0.1875 x_{1}^{4} + 0.046875 x_{1}^{2} x_{2}^{4} + 0.375 x_{1}^{2} x_{2}^{2} + 0.75 x_{1}^{2} + 0.015625 x_{2}^{6} + 0.1875 x_{2}^{4} + 0.75 x_{2}^{2} + 1} + \\frac{6.0 x_{1} x_{2} \\sin{\\left(12 \\sqrt{x_{1}^{2} + x_{2}^{2}} \\right)}}{0.0625 x_{1}^{4} \\sqrt{x_{1}^{2} + x_{2}^{2}} + 0.125 x_{1}^{2} x_{2}^{2} \\sqrt{x_{1}^{2} + x_{2}^{2}} + 0.5 x_{1}^{2} \\sqrt{x_{1}^{2} + x_{2}^{2}} + 0.0625 x_{2}^{4} \\sqrt{x_{1}^{2} + x_{2}^{2}} + 0.5 x_{2}^{2} \\sqrt{x_{1}^{2} + x_{2}^{2}} + \\sqrt{x_{1}^{2} + x_{2}^{2}}} + \\frac{12 x_{1} x_{2} \\sin{\\left(12 \\sqrt{x_{1}^{2} + x_{2}^{2}} \\right)}}{0.5 x_{1}^{4} \\sqrt{x_{1}^{2} + x_{2}^{2}} + 1.0 x_{1}^{2} x_{2}^{2} \\sqrt{x_{1}^{2} + x_{2}^{2}} + 2 x_{1}^{2} \\sqrt{x_{1}^{2} + x_{2}^{2}} + 0.5 x_{2}^{4} \\sqrt{x_{1}^{2} + x_{2}^{2}} + 2 x_{2}^{2} \\sqrt{x_{1}^{2} + x_{2}^{2}}} - \\frac{144 x_{1} x_{2} \\cos{\\left(12 \\sqrt{x_{1}^{2} + x_{2}^{2}} \\right)}}{0.5 x_{1}^{4} + 1.0 x_{1}^{2} x_{2}^{2} + 2 x_{1}^{2} + 0.5 x_{2}^{4} + 2 x_{2}^{2}}\\\\\\frac{0.25 x_{1} x_{2} \\cos{\\left(12 \\sqrt{x_{1}^{2} + x_{2}^{2}} \\right)}}{0.015625 x_{1}^{6} + 0.046875 x_{1}^{4} x_{2}^{2} + 0.1875 x_{1}^{4} + 0.046875 x_{1}^{2} x_{2}^{4} + 0.375 x_{1}^{2} x_{2}^{2} + 0.75 x_{1}^{2} + 0.015625 x_{2}^{6} + 0.1875 x_{2}^{4} + 0.75 x_{2}^{2} + 1} + \\frac{0.25 x_{1} x_{2}}{0.015625 x_{1}^{6} + 0.046875 x_{1}^{4} x_{2}^{2} + 0.1875 x_{1}^{4} + 0.046875 x_{1}^{2} x_{2}^{4} + 0.375 x_{1}^{2} x_{2}^{2} + 0.75 x_{1}^{2} + 0.015625 x_{2}^{6} + 0.1875 x_{2}^{4} + 0.75 x_{2}^{2} + 1} + \\frac{6.0 x_{1} x_{2} \\sin{\\left(12 \\sqrt{x_{1}^{2} + x_{2}^{2}} \\right)}}{0.0625 x_{1}^{4} \\sqrt{x_{1}^{2} + x_{2}^{2}} + 0.125 x_{1}^{2} x_{2}^{2} \\sqrt{x_{1}^{2} + x_{2}^{2}} + 0.5 x_{1}^{2} \\sqrt{x_{1}^{2} + x_{2}^{2}} + 0.0625 x_{2}^{4} \\sqrt{x_{1}^{2} + x_{2}^{2}} + 0.5 x_{2}^{2} \\sqrt{x_{1}^{2} + x_{2}^{2}} + \\sqrt{x_{1}^{2} + x_{2}^{2}}} + \\frac{12 x_{1} x_{2} \\sin{\\left(12 \\sqrt{x_{1}^{2} + x_{2}^{2}} \\right)}}{0.5 x_{1}^{4} \\sqrt{x_{1}^{2} + x_{2}^{2}} + 1.0 x_{1}^{2} x_{2}^{2} \\sqrt{x_{1}^{2} + x_{2}^{2}} + 2 x_{1}^{2} \\sqrt{x_{1}^{2} + x_{2}^{2}} + 0.5 x_{2}^{4} \\sqrt{x_{1}^{2} + x_{2}^{2}} + 2 x_{2}^{2} \\sqrt{x_{1}^{2} + x_{2}^{2}}} - \\frac{144 x_{1} x_{2} \\cos{\\left(12 \\sqrt{x_{1}^{2} + x_{2}^{2}} \\right)}}{0.5 x_{1}^{4} + 1.0 x_{1}^{2} x_{2}^{2} + 2 x_{1}^{2} + 0.5 x_{2}^{4} + 2 x_{2}^{2}} & \\frac{0.25 x_{2}^{2} \\cos{\\left(12 \\sqrt{x_{1}^{2} + x_{2}^{2}} \\right)}}{0.015625 x_{1}^{6} + 0.046875 x_{1}^{4} x_{2}^{2} + 0.1875 x_{1}^{4} + 0.046875 x_{1}^{2} x_{2}^{4} + 0.375 x_{1}^{2} x_{2}^{2} + 0.75 x_{1}^{2} + 0.015625 x_{2}^{6} + 0.1875 x_{2}^{4} + 0.75 x_{2}^{2} + 1} + \\frac{0.25 x_{2}^{2}}{0.015625 x_{1}^{6} + 0.046875 x_{1}^{4} x_{2}^{2} + 0.1875 x_{1}^{4} + 0.046875 x_{1}^{2} x_{2}^{4} + 0.375 x_{1}^{2} x_{2}^{2} + 0.75 x_{1}^{2} + 0.015625 x_{2}^{6} + 0.1875 x_{2}^{4} + 0.75 x_{2}^{2} + 1} + \\frac{6.0 x_{2}^{2} \\sin{\\left(12 \\sqrt{x_{1}^{2} + x_{2}^{2}} \\right)}}{0.0625 x_{1}^{4} \\sqrt{x_{1}^{2} + x_{2}^{2}} + 0.125 x_{1}^{2} x_{2}^{2} \\sqrt{x_{1}^{2} + x_{2}^{2}} + 0.5 x_{1}^{2} \\sqrt{x_{1}^{2} + x_{2}^{2}} + 0.0625 x_{2}^{4} \\sqrt{x_{1}^{2} + x_{2}^{2}} + 0.5 x_{2}^{2} \\sqrt{x_{1}^{2} + x_{2}^{2}} + \\sqrt{x_{1}^{2} + x_{2}^{2}}} + \\frac{12 x_{2}^{2} \\sin{\\left(12 \\sqrt{x_{1}^{2} + x_{2}^{2}} \\right)}}{0.5 x_{1}^{4} \\sqrt{x_{1}^{2} + x_{2}^{2}} + 1.0 x_{1}^{2} x_{2}^{2} \\sqrt{x_{1}^{2} + x_{2}^{2}} + 2 x_{1}^{2} \\sqrt{x_{1}^{2} + x_{2}^{2}} + 0.5 x_{2}^{4} \\sqrt{x_{1}^{2} + x_{2}^{2}} + 2 x_{2}^{2} \\sqrt{x_{1}^{2} + x_{2}^{2}}} - \\frac{144 x_{2}^{2} \\cos{\\left(12 \\sqrt{x_{1}^{2} + x_{2}^{2}} \\right)}}{0.5 x_{1}^{4} + 1.0 x_{1}^{2} x_{2}^{2} + 2 x_{1}^{2} + 0.5 x_{2}^{4} + 2 x_{2}^{2}} - \\frac{0.25 \\cos{\\left(12 \\sqrt{x_{1}^{2} + x_{2}^{2}} \\right)}}{0.0625 x_{1}^{4} + 0.125 x_{1}^{2} x_{2}^{2} + 0.5 x_{1}^{2} + 0.0625 x_{2}^{4} + 0.5 x_{2}^{2} + 1} - \\frac{0.25}{0.0625 x_{1}^{4} + 0.125 x_{1}^{2} x_{2}^{2} + 0.5 x_{1}^{2} + 0.0625 x_{2}^{4} + 0.5 x_{2}^{2} + 1} - \\frac{12 \\sin{\\left(12 \\sqrt{x_{1}^{2} + x_{2}^{2}} \\right)}}{0.5 x_{1}^{2} \\sqrt{x_{1}^{2} + x_{2}^{2}} + 0.5 x_{2}^{2} \\sqrt{x_{1}^{2} + x_{2}^{2}} + 2 \\sqrt{x_{1}^{2} + x_{2}^{2}}}\\end{matrix}\\right]$"
      ],
      "text/plain": [
       "Matrix([\n",
       "[0.25*x1**2*cos(12*sqrt(x1**2 + x2**2))/(0.015625*x1**6 + 0.046875*x1**4*x2**2 + 0.1875*x1**4 + 0.046875*x1**2*x2**4 + 0.375*x1**2*x2**2 + 0.75*x1**2 + 0.015625*x2**6 + 0.1875*x2**4 + 0.75*x2**2 + 1) + 0.25*x1**2/(0.015625*x1**6 + 0.046875*x1**4*x2**2 + 0.1875*x1**4 + 0.046875*x1**2*x2**4 + 0.375*x1**2*x2**2 + 0.75*x1**2 + 0.015625*x2**6 + 0.1875*x2**4 + 0.75*x2**2 + 1) + 6.0*x1**2*sin(12*sqrt(x1**2 + x2**2))/(0.0625*x1**4*sqrt(x1**2 + x2**2) + 0.125*x1**2*x2**2*sqrt(x1**2 + x2**2) + 0.5*x1**2*sqrt(x1**2 + x2**2) + 0.0625*x2**4*sqrt(x1**2 + x2**2) + 0.5*x2**2*sqrt(x1**2 + x2**2) + sqrt(x1**2 + x2**2)) + 12*x1**2*sin(12*sqrt(x1**2 + x2**2))/(0.5*x1**4*sqrt(x1**2 + x2**2) + 1.0*x1**2*x2**2*sqrt(x1**2 + x2**2) + 2*x1**2*sqrt(x1**2 + x2**2) + 0.5*x2**4*sqrt(x1**2 + x2**2) + 2*x2**2*sqrt(x1**2 + x2**2)) - 144*x1**2*cos(12*sqrt(x1**2 + x2**2))/(0.5*x1**4 + 1.0*x1**2*x2**2 + 2*x1**2 + 0.5*x2**4 + 2*x2**2) - 0.25*cos(12*sqrt(x1**2 + x2**2))/(0.0625*x1**4 + 0.125*x1**2*x2**2 + 0.5*x1**2 + 0.0625*x2**4 + 0.5*x2**2 + 1) - 0.25/(0.0625*x1**4 + 0.125*x1**2*x2**2 + 0.5*x1**2 + 0.0625*x2**4 + 0.5*x2**2 + 1) - 12*sin(12*sqrt(x1**2 + x2**2))/(0.5*x1**2*sqrt(x1**2 + x2**2) + 0.5*x2**2*sqrt(x1**2 + x2**2) + 2*sqrt(x1**2 + x2**2)),                                                                                                                                                                                                                                                                                                                                0.25*x1*x2*cos(12*sqrt(x1**2 + x2**2))/(0.015625*x1**6 + 0.046875*x1**4*x2**2 + 0.1875*x1**4 + 0.046875*x1**2*x2**4 + 0.375*x1**2*x2**2 + 0.75*x1**2 + 0.015625*x2**6 + 0.1875*x2**4 + 0.75*x2**2 + 1) + 0.25*x1*x2/(0.015625*x1**6 + 0.046875*x1**4*x2**2 + 0.1875*x1**4 + 0.046875*x1**2*x2**4 + 0.375*x1**2*x2**2 + 0.75*x1**2 + 0.015625*x2**6 + 0.1875*x2**4 + 0.75*x2**2 + 1) + 6.0*x1*x2*sin(12*sqrt(x1**2 + x2**2))/(0.0625*x1**4*sqrt(x1**2 + x2**2) + 0.125*x1**2*x2**2*sqrt(x1**2 + x2**2) + 0.5*x1**2*sqrt(x1**2 + x2**2) + 0.0625*x2**4*sqrt(x1**2 + x2**2) + 0.5*x2**2*sqrt(x1**2 + x2**2) + sqrt(x1**2 + x2**2)) + 12*x1*x2*sin(12*sqrt(x1**2 + x2**2))/(0.5*x1**4*sqrt(x1**2 + x2**2) + 1.0*x1**2*x2**2*sqrt(x1**2 + x2**2) + 2*x1**2*sqrt(x1**2 + x2**2) + 0.5*x2**4*sqrt(x1**2 + x2**2) + 2*x2**2*sqrt(x1**2 + x2**2)) - 144*x1*x2*cos(12*sqrt(x1**2 + x2**2))/(0.5*x1**4 + 1.0*x1**2*x2**2 + 2*x1**2 + 0.5*x2**4 + 2*x2**2)],\n",
       "[                                                                                                                                                                                                                                                                                                                               0.25*x1*x2*cos(12*sqrt(x1**2 + x2**2))/(0.015625*x1**6 + 0.046875*x1**4*x2**2 + 0.1875*x1**4 + 0.046875*x1**2*x2**4 + 0.375*x1**2*x2**2 + 0.75*x1**2 + 0.015625*x2**6 + 0.1875*x2**4 + 0.75*x2**2 + 1) + 0.25*x1*x2/(0.015625*x1**6 + 0.046875*x1**4*x2**2 + 0.1875*x1**4 + 0.046875*x1**2*x2**4 + 0.375*x1**2*x2**2 + 0.75*x1**2 + 0.015625*x2**6 + 0.1875*x2**4 + 0.75*x2**2 + 1) + 6.0*x1*x2*sin(12*sqrt(x1**2 + x2**2))/(0.0625*x1**4*sqrt(x1**2 + x2**2) + 0.125*x1**2*x2**2*sqrt(x1**2 + x2**2) + 0.5*x1**2*sqrt(x1**2 + x2**2) + 0.0625*x2**4*sqrt(x1**2 + x2**2) + 0.5*x2**2*sqrt(x1**2 + x2**2) + sqrt(x1**2 + x2**2)) + 12*x1*x2*sin(12*sqrt(x1**2 + x2**2))/(0.5*x1**4*sqrt(x1**2 + x2**2) + 1.0*x1**2*x2**2*sqrt(x1**2 + x2**2) + 2*x1**2*sqrt(x1**2 + x2**2) + 0.5*x2**4*sqrt(x1**2 + x2**2) + 2*x2**2*sqrt(x1**2 + x2**2)) - 144*x1*x2*cos(12*sqrt(x1**2 + x2**2))/(0.5*x1**4 + 1.0*x1**2*x2**2 + 2*x1**2 + 0.5*x2**4 + 2*x2**2), 0.25*x2**2*cos(12*sqrt(x1**2 + x2**2))/(0.015625*x1**6 + 0.046875*x1**4*x2**2 + 0.1875*x1**4 + 0.046875*x1**2*x2**4 + 0.375*x1**2*x2**2 + 0.75*x1**2 + 0.015625*x2**6 + 0.1875*x2**4 + 0.75*x2**2 + 1) + 0.25*x2**2/(0.015625*x1**6 + 0.046875*x1**4*x2**2 + 0.1875*x1**4 + 0.046875*x1**2*x2**4 + 0.375*x1**2*x2**2 + 0.75*x1**2 + 0.015625*x2**6 + 0.1875*x2**4 + 0.75*x2**2 + 1) + 6.0*x2**2*sin(12*sqrt(x1**2 + x2**2))/(0.0625*x1**4*sqrt(x1**2 + x2**2) + 0.125*x1**2*x2**2*sqrt(x1**2 + x2**2) + 0.5*x1**2*sqrt(x1**2 + x2**2) + 0.0625*x2**4*sqrt(x1**2 + x2**2) + 0.5*x2**2*sqrt(x1**2 + x2**2) + sqrt(x1**2 + x2**2)) + 12*x2**2*sin(12*sqrt(x1**2 + x2**2))/(0.5*x1**4*sqrt(x1**2 + x2**2) + 1.0*x1**2*x2**2*sqrt(x1**2 + x2**2) + 2*x1**2*sqrt(x1**2 + x2**2) + 0.5*x2**4*sqrt(x1**2 + x2**2) + 2*x2**2*sqrt(x1**2 + x2**2)) - 144*x2**2*cos(12*sqrt(x1**2 + x2**2))/(0.5*x1**4 + 1.0*x1**2*x2**2 + 2*x1**2 + 0.5*x2**4 + 2*x2**2) - 0.25*cos(12*sqrt(x1**2 + x2**2))/(0.0625*x1**4 + 0.125*x1**2*x2**2 + 0.5*x1**2 + 0.0625*x2**4 + 0.5*x2**2 + 1) - 0.25/(0.0625*x1**4 + 0.125*x1**2*x2**2 + 0.5*x1**2 + 0.0625*x2**4 + 0.5*x2**2 + 1) - 12*sin(12*sqrt(x1**2 + x2**2))/(0.5*x1**2*sqrt(x1**2 + x2**2) + 0.5*x2**2*sqrt(x1**2 + x2**2) + 2*sqrt(x1**2 + x2**2))]])"
      ]
     },
     "execution_count": 82,
     "metadata": {},
     "output_type": "execute_result"
    }
   ],
   "source": [
    "hessian_f2 = sy.hessian(f_2, (x1, x2)).expand()\n",
    "print(\"This is the Hesssian for Q1 just to  see \")\n",
    "hessian_f2"
   ]
  },
  {
   "cell_type": "code",
   "execution_count": 83,
   "metadata": {},
   "outputs": [
    {
     "name": "stdout",
     "output_type": "stream",
     "text": [
      "wow this is literally disgusting \n"
     ]
    }
   ],
   "source": [
    "print(\"wow this is literally disgusting \")"
   ]
  },
  {
   "cell_type": "code",
   "execution_count": 84,
   "metadata": {},
   "outputs": [
    {
     "name": "stdout",
     "output_type": "stream",
     "text": [
      "[0.12111246 0.41908634]\n",
      "1000\n",
      "[array([0.08364783, 0.24808015])]\n",
      "[0.12244898 1.10204082]\n",
      "1000\n",
      " \n"
     ]
    }
   ],
   "source": [
    "bfgs_f2_pt, bfgs_f2_conv = bfgs(df2, np.random.rand(2), alpha = .01)"
   ]
  },
  {
   "cell_type": "code",
   "execution_count": 85,
   "metadata": {},
   "outputs": [
    {
     "data": {
      "text/plain": [
       "[array([0.08364783, 0.24808015]), array([0.11589329, 1.04897741])]"
      ]
     },
     "execution_count": 85,
     "metadata": {},
     "output_type": "execute_result"
    }
   ],
   "source": [
    "bfgs_f2_pt"
   ]
  },
  {
   "cell_type": "code",
   "execution_count": null,
   "metadata": {},
   "outputs": [],
   "source": []
  },
  {
   "cell_type": "code",
   "execution_count": null,
   "metadata": {},
   "outputs": [],
   "source": [
    "adam_f2_point = adam(f2, df2, np.random.choice(np.linspace(-2,2), 2), e=1e-8, eta=.1, N=1000, eps = 1e-12)"
   ]
  },
  {
   "cell_type": "code",
   "execution_count": null,
   "metadata": {},
   "outputs": [],
   "source": [
    "type(np.random.rand(2))"
   ]
  },
  {
   "cell_type": "code",
   "execution_count": null,
   "metadata": {},
   "outputs": [],
   "source": [
    "type(np.random.choice(np.linspace(-2,2), 2))"
   ]
  },
  {
   "cell_type": "code",
   "execution_count": null,
   "metadata": {},
   "outputs": [],
   "source": [
    "df2(np.random.rand(2))"
   ]
  },
  {
   "cell_type": "code",
   "execution_count": null,
   "metadata": {},
   "outputs": [],
   "source": []
  }
 ],
 "metadata": {
  "kernelspec": {
   "display_name": "Python 3",
   "language": "python",
   "name": "python3"
  },
  "language_info": {
   "codemirror_mode": {
    "name": "ipython",
    "version": 3
   },
   "file_extension": ".py",
   "mimetype": "text/x-python",
   "name": "python",
   "nbconvert_exporter": "python",
   "pygments_lexer": "ipython3",
   "version": "3.8.2"
  }
 },
 "nbformat": 4,
 "nbformat_minor": 4
}
