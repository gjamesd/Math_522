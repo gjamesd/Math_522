{
 "cells": [
  {
   "cell_type": "markdown",
   "metadata": {},
   "source": [
    "## James Griffin\n",
    "### Midterm \n"
   ]
  },
  {
   "cell_type": "code",
   "execution_count": 1,
   "metadata": {},
   "outputs": [],
   "source": [
    "import numpy as np\n",
    "import matplotlib.pyplot as plt \n",
    "from scipy import optimize\n",
    "import sympy as sy\n",
    "from sympy import symbols\n",
    "from math import cos, sqrt, sin "
   ]
  },
  {
   "cell_type": "markdown",
   "metadata": {},
   "source": [
    "(1) Numerically find the minimum (HINT: there are 2) of the following function using at least\n",
    "2 different methods (for example BFGS vs. Adam).\n",
    "\n",
    "You may restrict your domain to x1 ∈ [−3, 3] and x2 ∈ [−2, 2]. Include evidence of the\n",
    "convergence of your numerical method, and comparisons between the two methods that\n",
    "you chose. Discuss why you think one of them works better than the other (or can you\n",
    "tell?)."
   ]
  },
  {
   "cell_type": "code",
   "execution_count": 2,
   "metadata": {},
   "outputs": [],
   "source": [
    "## building fucntions \n",
    "x1,x2 = sy.symbols('x1, x2', real=True)\n",
    "f_1 = (4 - 2.1*x1**2 + (1/3)*x1**4)*x1**2 + (x1*x2) + (x2**2)*(4*x2**2 -4)\n",
    "\n",
    "f1p = sy.lambdify((x1,x2), f_1)\n",
    "f1 = lambda x: f1p(x[0], x[1])"
   ]
  },
  {
   "cell_type": "code",
   "execution_count": 3,
   "metadata": {},
   "outputs": [],
   "source": [
    "#getting derivative   \n",
    "\n",
    "Df1 = f_1.diff(x1)\n",
    "Df2 = f_1.diff(x2)\n",
    "\n",
    "Df1_lambdified = sy.lambdify((x1,x2),sy.Matrix([Df1, Df2]))\n",
    "df1 = lambda x: Df1_lambdified(x[0],x[1])[:,0]"
   ]
  },
  {
   "cell_type": "code",
   "execution_count": null,
   "metadata": {},
   "outputs": [],
   "source": []
  },
  {
   "cell_type": "markdown",
   "metadata": {},
   "source": [
    "Ok now that we have the function, we want to look at the different partial derivatives  and the hessian  "
   ]
  },
  {
   "cell_type": "code",
   "execution_count": 4,
   "metadata": {},
   "outputs": [],
   "source": [
    "Df1_x1 = f_1.diff(x1).expand()\n",
    "Df1_x1x2 = Df1_x1.diff(x2).expand()\n",
    "Df1_x2 = f_1.diff(x2).expand()\n",
    "Df1_x2x1 = Df1_x2.diff(x1).expand()"
   ]
  },
  {
   "cell_type": "code",
   "execution_count": 5,
   "metadata": {},
   "outputs": [
    {
     "name": "stdout",
     "output_type": "stream",
     "text": [
      "This is the Hesssian for Q1 just to  see \n"
     ]
    },
    {
     "data": {
      "text/latex": [
       "$\\displaystyle \\left[\\begin{matrix}10.0 x_{1}^{4} - 25.2 x_{1}^{2} + 8 & 1\\\\1 & 48 x_{2}^{2} - 8\\end{matrix}\\right]$"
      ],
      "text/plain": [
       "Matrix([\n",
       "[10.0*x1**4 - 25.2*x1**2 + 8,            1],\n",
       "[                          1, 48*x2**2 - 8]])"
      ]
     },
     "execution_count": 5,
     "metadata": {},
     "output_type": "execute_result"
    }
   ],
   "source": [
    "hessian_f1 = sy.hessian(f_1, (x1, x2)).expand()\n",
    "print(\"This is the Hesssian for Q1 just to  see \")\n",
    "hessian_f1"
   ]
  },
  {
   "cell_type": "markdown",
   "metadata": {},
   "source": [
    "Turning these into lambified fucntions and into an array "
   ]
  },
  {
   "cell_type": "code",
   "execution_count": 6,
   "metadata": {},
   "outputs": [],
   "source": [
    "def get_lambda_func(func):\n",
    "    func_p = sy.lambdify((x1,x2), func)\n",
    "    func_l = lambda x: func_p(x[0], x[1])\n",
    "    return func_l\n",
    "\n",
    "df1_x1_l = get_lambda_func(Df1_x1)\n",
    "df1_x1x2_l = get_lambda_func(Df1_x1x2)\n",
    "df1_x2_l= get_lambda_func(Df1_x2)\n",
    "df1_x2x1_l = get_lambda_func(Df1_x2x1)\n",
    "\n",
    "\n",
    "hessian_1 = np.array([df1_x1_l, df1_x1x2_l, df1_x2_l, df1_x2x1_l])"
   ]
  },
  {
   "cell_type": "markdown",
   "metadata": {},
   "source": [
    "ok going to code up bfgs"
   ]
  },
  {
   "cell_type": "code",
   "execution_count": 74,
   "metadata": {},
   "outputs": [],
   "source": [
    "def bfgs(df, x0, maxiter = 1000, d = 2, alpha = .01, eps =1e-10):\n",
    "    '''\n",
    "    takes  in a derivative, a sttarting guess,  \n",
    "    and then all other parameters are  default from  \n",
    "    standard literature  pracice \n",
    "    '''\n",
    "    r = x0\n",
    "    min_vals = []\n",
    "    #counter starts  at 0 \n",
    "    iters = 0\n",
    "    #set x old to initial guess \n",
    "    x_old = x0\n",
    "    #\n",
    "    s_old = np.ones(len(x0))\n",
    "    u_old = np.ones(len(df(x0)))\n",
    "    \n",
    "    #evaluate  derivative at initialg uesss \n",
    "    g_old = df(x0)\n",
    "    \n",
    "    #calculate old hessia  \n",
    "    H_old = (s_old.T@u_old / np.linalg.norm(u_old)) * np.eye(df(x0).shape[0])\n",
    "    \n",
    "    conv = []\n",
    "    #we  want  to find two minimizing values \n",
    "    \n",
    "    #because we want to look for two minimizers \n",
    "    #until we have two  \n",
    "    while len(min_vals)<2:\n",
    "        print(min_vals)\n",
    "        \n",
    "        #iterate \n",
    "        for i in range(maxiter):\n",
    "            \n",
    "            #if we have  found a min \n",
    "            if len(min_vals)==1:\n",
    "                print(\"here\")\n",
    "                conv = []\n",
    "                print(min_vals)\n",
    "                print(conv)\n",
    "                #reset everything \n",
    "                x_old = np.random.choice(np.linspace(-d,d), 2)\n",
    "                \n",
    "        \n",
    "                s_old = np.ones(len(x0))\n",
    "                u_old = np.ones(len(df(x0)))\n",
    "\n",
    "                #evaluate  derivative at initialg uesss \n",
    "                g_old = df(x0)\n",
    "\n",
    "                #calculate old hessia  \n",
    "                H_old = (s_old.T@u_old / np.linalg.norm(u_old)) * np.eye(df(x0).shape[0])\n",
    "                H_new = (np.eye(len(x_old)) - (np.outer(s_old,u_old) / np.inner(s_old,u_old))) @ H_old @ (np.eye(len(x_old)) - (np.outer(u_old,s_old)/np.inner(u_old,s_old))) + np.outer(s_old,s_old) / (u_old@s_old)\n",
    "\n",
    "                x_new = x_old - alpha*g_old@H_new\n",
    "                \n",
    "                #to go again \n",
    "                break\n",
    "            \n",
    "        \n",
    "            #new hessian \n",
    "            \n",
    "            H_new = (np.eye(len(x_old)) - (np.outer(s_old,u_old) / np.inner(s_old,u_old))) @ H_old @ (np.eye(len(x_old)) - (np.outer(u_old,s_old)/np.inner(u_old,s_old))) + np.outer(s_old,s_old) / (u_old@s_old)\n",
    "            \n",
    "            #\n",
    "            x_new = x_old - alpha*g_old@H_new\n",
    "            g_new = df(x_new)\n",
    "\n",
    "            #using the norm  difference of the two to be our  convergence condition \n",
    "            #print(\"here\"+str(iters))\n",
    "            conv.append(np.linalg.norm(x_new - x_old))\n",
    "            \n",
    "            #increment \n",
    "            iters += 1\n",
    "            \n",
    "            #check stopping condition \n",
    "            if np.linalg.norm(H_new-H_old)<eps:\n",
    "                break\n",
    "            if g_new.all() == 0:\n",
    "                break\n",
    "\n",
    "            #update values \n",
    "            s_old = (x_new - x_old)\n",
    "            u_old = (g_new - g_old)\n",
    "            g_old = g_new\n",
    "            x_old = x_new\n",
    "            H_old = H_new\n",
    "            \n",
    "        plt.title(\"convergence for point \" + str(len(min_vals)))\n",
    "        plt.plot(conv)\n",
    "        plt.show()\n",
    "        print(len(conv))\n",
    "        min_vals.append(x_new)\n",
    "        \n",
    "    print(\" \")\n",
    "\n",
    "    return min_vals, conv"
   ]
  },
  {
   "cell_type": "code",
   "execution_count": 28,
   "metadata": {},
   "outputs": [],
   "source": [
    "bfgs_points, bfgs_f1_conv1 = bfgs(df1, np.random.choice(np.linspace(-2,2), 2), \n",
    "                                 alpha = .01)"
   ]
  },
  {
   "cell_type": "code",
   "execution_count": 67,
   "metadata": {},
   "outputs": [
    {
     "data": {
      "image/png": "[encoded data removed]",
      "text/plain": [
       "<Figure size 432x288 with 1 Axes>"
      ]
     },
     "metadata": {
      "needs_background": "light"
     },
     "output_type": "display_data"
    }
   ],
   "source": [
    "plt.plot(bfgs_f1_conv1[0])\n",
    "plt.title(\"Convergence of point 1\")\n",
    "plt.show()"
   ]
  },
  {
   "cell_type": "code",
   "execution_count": 68,
   "metadata": {},
   "outputs": [
    {
     "data": {
      "image/png": "[encoded data removed]",
      "text/plain": [
       "<Figure size 432x288 with 1 Axes>"
      ]
     },
     "metadata": {
      "needs_background": "light"
     },
     "output_type": "display_data"
    }
   ],
   "source": [
    "plt.plot(bfgs_f1_conv1[1])\n",
    "plt.title(\"Convergence of point 2\")\n",
    "plt.show()"
   ]
  },
  {
   "cell_type": "code",
   "execution_count": null,
   "metadata": {},
   "outputs": [],
   "source": []
  },
  {
   "cell_type": "code",
   "execution_count": 31,
   "metadata": {},
   "outputs": [
    {
     "data": {
      "text/plain": [
       "[array([-0.0898514 ,  0.71265311]), array([-0.08985504,  0.71267541])]"
      ]
     },
     "execution_count": 31,
     "metadata": {},
     "output_type": "execute_result"
    }
   ],
   "source": [
    "bfgs_points"
   ]
  },
  {
   "cell_type": "markdown",
   "metadata": {},
   "source": [
    "now building / using atom  \n"
   ]
  },
  {
   "cell_type": "code",
   "execution_count": 53,
   "metadata": {},
   "outputs": [],
   "source": [
    "def adam(f,df,x0, b1=.9, b2=.999, e=.01, m=.9, eta=.01,  N=1000, eps = 1e-12):\n",
    "    '''\n",
    "    takes in funcion,  \n",
    "    derivative, \n",
    "    inittial guess \n",
    "    \n",
    "    all other inputs are set to default by industry andl iterature defaults\n",
    "    '''\n",
    "    \n",
    "    mins = []\n",
    "    \n",
    "    iteration = 0\n",
    "    fs = []\n",
    "    xold = x0\n",
    "    g = df(xold)\n",
    "    m = b1*np.zeros(len(x0))+(1-b1)*df(xold)\n",
    "    v = np.sqrt((1-b2)*df(xold)**2)\n",
    "    xnew = xold  - eta*(sqrt(1-b2))/(1-b1)*m/(v+e)\n",
    "    \n",
    "    while(len(mins) <2):\n",
    "        #iterate \n",
    "        for i in range(N):\n",
    "            \n",
    "            if len(mins)==1:\n",
    "                fs = []\n",
    "                xold = np.random.choice(np.linspace(-2,2), 2)\n",
    "                g = df(xold)\n",
    "                m = b1*np.zeros(len(x0))+(1-b1)*df(xold)\n",
    "                v = np.sqrt((1-b2)*df(xold)**2)\n",
    "                xnew = xold  - eta*(sqrt(1-b2))/(1-b1)*m/(v+e)\n",
    "                \n",
    "                break\n",
    "            #print(type(xold))\n",
    "            m = b1*m + (1-b1)*df(xold)\n",
    "            v = np.sqrt((b2*v)+(1-b2)*df(xold)**2)\n",
    "            #print(type(v))\n",
    "            xnew =  xold - eta*((sqrt(1-b2))/(1-b1))*m/(v+e)\n",
    "            iteration += 1 \n",
    "            fs.append(np.linalg.norm(xnew-xold))\n",
    "        \n",
    "    return mins,fs\n"
   ]
  },
  {
   "cell_type": "code",
   "execution_count": 61,
   "metadata": {},
   "outputs": [],
   "source": [
    "adam_f1_point_1, adam_f1_conv_1 = adam(f1, df1, np.random.choice(np.linspace(-2,2), 2), e=1e-8, eta=.1, N=1000, eps = 1e-12)"
   ]
  },
  {
   "cell_type": "code",
   "execution_count": 63,
   "metadata": {},
   "outputs": [
    {
     "data": {
      "image/png": "[encoded data removed]",
      "text/plain": [
       "<Figure size 432x288 with 1 Axes>"
      ]
     },
     "metadata": {
      "needs_background": "light"
     },
     "output_type": "display_data"
    }
   ],
   "source": [
    "plt.plot(adam_f1_conv_2[1])\n",
    "plt.title(\"convergence of adam second point\")\n",
    "plt.show()"
   ]
  },
  {
   "cell_type": "code",
   "execution_count": 60,
   "metadata": {},
   "outputs": [
    {
     "data": {
      "image/png": "[encoded data removed]",
      "text/plain": [
       "<Figure size 432x288 with 1 Axes>"
      ]
     },
     "metadata": {
      "needs_background": "light"
     },
     "output_type": "display_data"
    }
   ],
   "source": [
    "plt.plot(adam_f1_conv_1[0])\n",
    "plt.title(\"conveergence of first point\")\n",
    "plt.show()"
   ]
  },
  {
   "cell_type": "code",
   "execution_count": 57,
   "metadata": {},
   "outputs": [
    {
     "name": "stdout",
     "output_type": "stream",
     "text": [
      "ADAM approximation of min values \n"
     ]
    },
    {
     "data": {
      "text/plain": [
       "[array([ 0.08984201, -0.7126564 ]), array([ 0.08984201, -0.7126564 ])]"
      ]
     },
     "execution_count": 57,
     "metadata": {},
     "output_type": "execute_result"
    }
   ],
   "source": [
    "print(\"ADAM approximation of min values \")\n",
    "adam_f1_points = [adam_f1_point_1,  adam_f1_point_2]\n",
    "adam_f1_points"
   ]
  },
  {
   "cell_type": "code",
   "execution_count": 59,
   "metadata": {},
   "outputs": [
    {
     "data": {
      "text/plain": [
       "[array([-0.0898514 ,  0.71265311]), array([-0.08985504,  0.71267541])]"
      ]
     },
     "execution_count": 59,
     "metadata": {},
     "output_type": "execute_result"
    }
   ],
   "source": [
    "bfgs_points"
   ]
  },
  {
   "cell_type": "markdown",
   "metadata": {},
   "source": [
    "#### findings \n",
    "We  found the  exact same points, just inverted, and we can see that both approaches converge, bfgs does so faster  \n"
   ]
  },
  {
   "cell_type": "markdown",
   "metadata": {},
   "source": [
    "# Question 2 \n",
    "\n",
    "2) This is the same as the previous problem, but now for the function\n",
    "\n",
    "In this case you may restrict the domain to xi ∈[−5.12, 5.12]. Note that this function will\n",
    "likely be much more difficult to minimize. Why is that the case? Do either of the methods\n",
    "you chose actually reach a global minimizer? If so, what is it? (For this problem you may\n",
    "not find the global minimizer numerically but you will very likely be able to figure out\n",
    "what the minimum is)."
   ]
  },
  {
   "cell_type": "code",
   "execution_count": 69,
   "metadata": {},
   "outputs": [],
   "source": [
    "from sympy import cos, sqrt\n",
    "f_2 = (1+cos(12*(sqrt(x1**2 + x2**2))))/(2+.5*(x1**2 + x2**2))\n",
    "\n",
    "f2p = sy.lambdify((x1,x2), f_1)\n",
    "f2 = lambda x: f2p(x[0], x[1])"
   ]
  },
  {
   "cell_type": "code",
   "execution_count": 70,
   "metadata": {},
   "outputs": [],
   "source": [
    "#getting derivative   \n",
    "\n",
    "Df_21 = f_2.diff(x1)\n",
    "Df_22 = f_2.diff(x2)\n",
    "\n",
    "Df2_lambdified = sy.lambdify((x1,x2),sy.Matrix([Df_21, Df_22]))\n",
    "df2 = lambda x: Df2_lambdified(x[0],x[1])[:,0]"
   ]
  },
  {
   "cell_type": "code",
   "execution_count": 71,
   "metadata": {},
   "outputs": [
    {
     "name": "stdout",
     "output_type": "stream",
     "text": [
      "This is the Hesssian for Q1 just to  see \n"
     ]
    },
    {
     "data": {
      "text/latex": [
       "$\\displaystyle \\left[\\begin{matrix}\\frac{0.25 x_{1}^{2} \\cos{\\left(12 \\sqrt{x_{1}^{2} + x_{2}^{2}} \\right)}}{0.015625 x_{1}^{6} + 0.046875 x_{1}^{4} x_{2}^{2} + 0.1875 x_{1}^{4} + 0.046875 x_{1}^{2} x_{2}^{4} + 0.375 x_{1}^{2} x_{2}^{2} + 0.75 x_{1}^{2} + 0.015625 x_{2}^{6} + 0.1875 x_{2}^{4} + 0.75 x_{2}^{2} + 1} + \\frac{0.25 x_{1}^{2}}{0.015625 x_{1}^{6} + 0.046875 x_{1}^{4} x_{2}^{2} + 0.1875 x_{1}^{4} + 0.046875 x_{1}^{2} x_{2}^{4} + 0.375 x_{1}^{2} x_{2}^{2} + 0.75 x_{1}^{2} + 0.015625 x_{2}^{6} + 0.1875 x_{2}^{4} + 0.75 x_{2}^{2} + 1} + \\frac{6.0 x_{1}^{2} \\sin{\\left(12 \\sqrt{x_{1}^{2} + x_{2}^{2}} \\right)}}{0.0625 x_{1}^{4} \\sqrt{x_{1}^{2} + x_{2}^{2}} + 0.125 x_{1}^{2} x_{2}^{2} \\sqrt{x_{1}^{2} + x_{2}^{2}} + 0.5 x_{1}^{2} \\sqrt{x_{1}^{2} + x_{2}^{2}} + 0.0625 x_{2}^{4} \\sqrt{x_{1}^{2} + x_{2}^{2}} + 0.5 x_{2}^{2} \\sqrt{x_{1}^{2} + x_{2}^{2}} + \\sqrt{x_{1}^{2} + x_{2}^{2}}} + \\frac{12 x_{1}^{2} \\sin{\\left(12 \\sqrt{x_{1}^{2} + x_{2}^{2}} \\right)}}{0.5 x_{1}^{4} \\sqrt{x_{1}^{2} + x_{2}^{2}} + 1.0 x_{1}^{2} x_{2}^{2} \\sqrt{x_{1}^{2} + x_{2}^{2}} + 2 x_{1}^{2} \\sqrt{x_{1}^{2} + x_{2}^{2}} + 0.5 x_{2}^{4} \\sqrt{x_{1}^{2} + x_{2}^{2}} + 2 x_{2}^{2} \\sqrt{x_{1}^{2} + x_{2}^{2}}} - \\frac{144 x_{1}^{2} \\cos{\\left(12 \\sqrt{x_{1}^{2} + x_{2}^{2}} \\right)}}{0.5 x_{1}^{4} + 1.0 x_{1}^{2} x_{2}^{2} + 2 x_{1}^{2} + 0.5 x_{2}^{4} + 2 x_{2}^{2}} - \\frac{0.25 \\cos{\\left(12 \\sqrt{x_{1}^{2} + x_{2}^{2}} \\right)}}{0.0625 x_{1}^{4} + 0.125 x_{1}^{2} x_{2}^{2} + 0.5 x_{1}^{2} + 0.0625 x_{2}^{4} + 0.5 x_{2}^{2} + 1} - \\frac{0.25}{0.0625 x_{1}^{4} + 0.125 x_{1}^{2} x_{2}^{2} + 0.5 x_{1}^{2} + 0.0625 x_{2}^{4} + 0.5 x_{2}^{2} + 1} - \\frac{12 \\sin{\\left(12 \\sqrt{x_{1}^{2} + x_{2}^{2}} \\right)}}{0.5 x_{1}^{2} \\sqrt{x_{1}^{2} + x_{2}^{2}} + 0.5 x_{2}^{2} \\sqrt{x_{1}^{2} + x_{2}^{2}} + 2 \\sqrt{x_{1}^{2} + x_{2}^{2}}} & \\frac{0.25 x_{1} x_{2} \\cos{\\left(12 \\sqrt{x_{1}^{2} + x_{2}^{2}} \\right)}}{0.015625 x_{1}^{6} + 0.046875 x_{1}^{4} x_{2}^{2} + 0.1875 x_{1}^{4} + 0.046875 x_{1}^{2} x_{2}^{4} + 0.375 x_{1}^{2} x_{2}^{2} + 0.75 x_{1}^{2} + 0.015625 x_{2}^{6} + 0.1875 x_{2}^{4} + 0.75 x_{2}^{2} + 1} + \\frac{0.25 x_{1} x_{2}}{0.015625 x_{1}^{6} + 0.046875 x_{1}^{4} x_{2}^{2} + 0.1875 x_{1}^{4} + 0.046875 x_{1}^{2} x_{2}^{4} + 0.375 x_{1}^{2} x_{2}^{2} + 0.75 x_{1}^{2} + 0.015625 x_{2}^{6} + 0.1875 x_{2}^{4} + 0.75 x_{2}^{2} + 1} + \\frac{6.0 x_{1} x_{2} \\sin{\\left(12 \\sqrt{x_{1}^{2} + x_{2}^{2}} \\right)}}{0.0625 x_{1}^{4} \\sqrt{x_{1}^{2} + x_{2}^{2}} + 0.125 x_{1}^{2} x_{2}^{2} \\sqrt{x_{1}^{2} + x_{2}^{2}} + 0.5 x_{1}^{2} \\sqrt{x_{1}^{2} + x_{2}^{2}} + 0.0625 x_{2}^{4} \\sqrt{x_{1}^{2} + x_{2}^{2}} + 0.5 x_{2}^{2} \\sqrt{x_{1}^{2} + x_{2}^{2}} + \\sqrt{x_{1}^{2} + x_{2}^{2}}} + \\frac{12 x_{1} x_{2} \\sin{\\left(12 \\sqrt{x_{1}^{2} + x_{2}^{2}} \\right)}}{0.5 x_{1}^{4} \\sqrt{x_{1}^{2} + x_{2}^{2}} + 1.0 x_{1}^{2} x_{2}^{2} \\sqrt{x_{1}^{2} + x_{2}^{2}} + 2 x_{1}^{2} \\sqrt{x_{1}^{2} + x_{2}^{2}} + 0.5 x_{2}^{4} \\sqrt{x_{1}^{2} + x_{2}^{2}} + 2 x_{2}^{2} \\sqrt{x_{1}^{2} + x_{2}^{2}}} - \\frac{144 x_{1} x_{2} \\cos{\\left(12 \\sqrt{x_{1}^{2} + x_{2}^{2}} \\right)}}{0.5 x_{1}^{4} + 1.0 x_{1}^{2} x_{2}^{2} + 2 x_{1}^{2} + 0.5 x_{2}^{4} + 2 x_{2}^{2}}\\\\\\frac{0.25 x_{1} x_{2} \\cos{\\left(12 \\sqrt{x_{1}^{2} + x_{2}^{2}} \\right)}}{0.015625 x_{1}^{6} + 0.046875 x_{1}^{4} x_{2}^{2} + 0.1875 x_{1}^{4} + 0.046875 x_{1}^{2} x_{2}^{4} + 0.375 x_{1}^{2} x_{2}^{2} + 0.75 x_{1}^{2} + 0.015625 x_{2}^{6} + 0.1875 x_{2}^{4} + 0.75 x_{2}^{2} + 1} + \\frac{0.25 x_{1} x_{2}}{0.015625 x_{1}^{6} + 0.046875 x_{1}^{4} x_{2}^{2} + 0.1875 x_{1}^{4} + 0.046875 x_{1}^{2} x_{2}^{4} + 0.375 x_{1}^{2} x_{2}^{2} + 0.75 x_{1}^{2} + 0.015625 x_{2}^{6} + 0.1875 x_{2}^{4} + 0.75 x_{2}^{2} + 1} + \\frac{6.0 x_{1} x_{2} \\sin{\\left(12 \\sqrt{x_{1}^{2} + x_{2}^{2}} \\right)}}{0.0625 x_{1}^{4} \\sqrt{x_{1}^{2} + x_{2}^{2}} + 0.125 x_{1}^{2} x_{2}^{2} \\sqrt{x_{1}^{2} + x_{2}^{2}} + 0.5 x_{1}^{2} \\sqrt{x_{1}^{2} + x_{2}^{2}} + 0.0625 x_{2}^{4} \\sqrt{x_{1}^{2} + x_{2}^{2}} + 0.5 x_{2}^{2} \\sqrt{x_{1}^{2} + x_{2}^{2}} + \\sqrt{x_{1}^{2} + x_{2}^{2}}} + \\frac{12 x_{1} x_{2} \\sin{\\left(12 \\sqrt{x_{1}^{2} + x_{2}^{2}} \\right)}}{0.5 x_{1}^{4} \\sqrt{x_{1}^{2} + x_{2}^{2}} + 1.0 x_{1}^{2} x_{2}^{2} \\sqrt{x_{1}^{2} + x_{2}^{2}} + 2 x_{1}^{2} \\sqrt{x_{1}^{2} + x_{2}^{2}} + 0.5 x_{2}^{4} \\sqrt{x_{1}^{2} + x_{2}^{2}} + 2 x_{2}^{2} \\sqrt{x_{1}^{2} + x_{2}^{2}}} - \\frac{144 x_{1} x_{2} \\cos{\\left(12 \\sqrt{x_{1}^{2} + x_{2}^{2}} \\right)}}{0.5 x_{1}^{4} + 1.0 x_{1}^{2} x_{2}^{2} + 2 x_{1}^{2} + 0.5 x_{2}^{4} + 2 x_{2}^{2}} & \\frac{0.25 x_{2}^{2} \\cos{\\left(12 \\sqrt{x_{1}^{2} + x_{2}^{2}} \\right)}}{0.015625 x_{1}^{6} + 0.046875 x_{1}^{4} x_{2}^{2} + 0.1875 x_{1}^{4} + 0.046875 x_{1}^{2} x_{2}^{4} + 0.375 x_{1}^{2} x_{2}^{2} + 0.75 x_{1}^{2} + 0.015625 x_{2}^{6} + 0.1875 x_{2}^{4} + 0.75 x_{2}^{2} + 1} + \\frac{0.25 x_{2}^{2}}{0.015625 x_{1}^{6} + 0.046875 x_{1}^{4} x_{2}^{2} + 0.1875 x_{1}^{4} + 0.046875 x_{1}^{2} x_{2}^{4} + 0.375 x_{1}^{2} x_{2}^{2} + 0.75 x_{1}^{2} + 0.015625 x_{2}^{6} + 0.1875 x_{2}^{4} + 0.75 x_{2}^{2} + 1} + \\frac{6.0 x_{2}^{2} \\sin{\\left(12 \\sqrt{x_{1}^{2} + x_{2}^{2}} \\right)}}{0.0625 x_{1}^{4} \\sqrt{x_{1}^{2} + x_{2}^{2}} + 0.125 x_{1}^{2} x_{2}^{2} \\sqrt{x_{1}^{2} + x_{2}^{2}} + 0.5 x_{1}^{2} \\sqrt{x_{1}^{2} + x_{2}^{2}} + 0.0625 x_{2}^{4} \\sqrt{x_{1}^{2} + x_{2}^{2}} + 0.5 x_{2}^{2} \\sqrt{x_{1}^{2} + x_{2}^{2}} + \\sqrt{x_{1}^{2} + x_{2}^{2}}} + \\frac{12 x_{2}^{2} \\sin{\\left(12 \\sqrt{x_{1}^{2} + x_{2}^{2}} \\right)}}{0.5 x_{1}^{4} \\sqrt{x_{1}^{2} + x_{2}^{2}} + 1.0 x_{1}^{2} x_{2}^{2} \\sqrt{x_{1}^{2} + x_{2}^{2}} + 2 x_{1}^{2} \\sqrt{x_{1}^{2} + x_{2}^{2}} + 0.5 x_{2}^{4} \\sqrt{x_{1}^{2} + x_{2}^{2}} + 2 x_{2}^{2} \\sqrt{x_{1}^{2} + x_{2}^{2}}} - \\frac{144 x_{2}^{2} \\cos{\\left(12 \\sqrt{x_{1}^{2} + x_{2}^{2}} \\right)}}{0.5 x_{1}^{4} + 1.0 x_{1}^{2} x_{2}^{2} + 2 x_{1}^{2} + 0.5 x_{2}^{4} + 2 x_{2}^{2}} - \\frac{0.25 \\cos{\\left(12 \\sqrt{x_{1}^{2} + x_{2}^{2}} \\right)}}{0.0625 x_{1}^{4} + 0.125 x_{1}^{2} x_{2}^{2} + 0.5 x_{1}^{2} + 0.0625 x_{2}^{4} + 0.5 x_{2}^{2} + 1} - \\frac{0.25}{0.0625 x_{1}^{4} + 0.125 x_{1}^{2} x_{2}^{2} + 0.5 x_{1}^{2} + 0.0625 x_{2}^{4} + 0.5 x_{2}^{2} + 1} - \\frac{12 \\sin{\\left(12 \\sqrt{x_{1}^{2} + x_{2}^{2}} \\right)}}{0.5 x_{1}^{2} \\sqrt{x_{1}^{2} + x_{2}^{2}} + 0.5 x_{2}^{2} \\sqrt{x_{1}^{2} + x_{2}^{2}} + 2 \\sqrt{x_{1}^{2} + x_{2}^{2}}}\\end{matrix}\\right]$"
      ],
      "text/plain": [
       "Matrix([\n",
       "[0.25*x1**2*cos(12*sqrt(x1**2 + x2**2))/(0.015625*x1**6 + 0.046875*x1**4*x2**2 + 0.1875*x1**4 + 0.046875*x1**2*x2**4 + 0.375*x1**2*x2**2 + 0.75*x1**2 + 0.015625*x2**6 + 0.1875*x2**4 + 0.75*x2**2 + 1) + 0.25*x1**2/(0.015625*x1**6 + 0.046875*x1**4*x2**2 + 0.1875*x1**4 + 0.046875*x1**2*x2**4 + 0.375*x1**2*x2**2 + 0.75*x1**2 + 0.015625*x2**6 + 0.1875*x2**4 + 0.75*x2**2 + 1) + 6.0*x1**2*sin(12*sqrt(x1**2 + x2**2))/(0.0625*x1**4*sqrt(x1**2 + x2**2) + 0.125*x1**2*x2**2*sqrt(x1**2 + x2**2) + 0.5*x1**2*sqrt(x1**2 + x2**2) + 0.0625*x2**4*sqrt(x1**2 + x2**2) + 0.5*x2**2*sqrt(x1**2 + x2**2) + sqrt(x1**2 + x2**2)) + 12*x1**2*sin(12*sqrt(x1**2 + x2**2))/(0.5*x1**4*sqrt(x1**2 + x2**2) + 1.0*x1**2*x2**2*sqrt(x1**2 + x2**2) + 2*x1**2*sqrt(x1**2 + x2**2) + 0.5*x2**4*sqrt(x1**2 + x2**2) + 2*x2**2*sqrt(x1**2 + x2**2)) - 144*x1**2*cos(12*sqrt(x1**2 + x2**2))/(0.5*x1**4 + 1.0*x1**2*x2**2 + 2*x1**2 + 0.5*x2**4 + 2*x2**2) - 0.25*cos(12*sqrt(x1**2 + x2**2))/(0.0625*x1**4 + 0.125*x1**2*x2**2 + 0.5*x1**2 + 0.0625*x2**4 + 0.5*x2**2 + 1) - 0.25/(0.0625*x1**4 + 0.125*x1**2*x2**2 + 0.5*x1**2 + 0.0625*x2**4 + 0.5*x2**2 + 1) - 12*sin(12*sqrt(x1**2 + x2**2))/(0.5*x1**2*sqrt(x1**2 + x2**2) + 0.5*x2**2*sqrt(x1**2 + x2**2) + 2*sqrt(x1**2 + x2**2)),                                                                                                                                                                                                                                                                                                                                0.25*x1*x2*cos(12*sqrt(x1**2 + x2**2))/(0.015625*x1**6 + 0.046875*x1**4*x2**2 + 0.1875*x1**4 + 0.046875*x1**2*x2**4 + 0.375*x1**2*x2**2 + 0.75*x1**2 + 0.015625*x2**6 + 0.1875*x2**4 + 0.75*x2**2 + 1) + 0.25*x1*x2/(0.015625*x1**6 + 0.046875*x1**4*x2**2 + 0.1875*x1**4 + 0.046875*x1**2*x2**4 + 0.375*x1**2*x2**2 + 0.75*x1**2 + 0.015625*x2**6 + 0.1875*x2**4 + 0.75*x2**2 + 1) + 6.0*x1*x2*sin(12*sqrt(x1**2 + x2**2))/(0.0625*x1**4*sqrt(x1**2 + x2**2) + 0.125*x1**2*x2**2*sqrt(x1**2 + x2**2) + 0.5*x1**2*sqrt(x1**2 + x2**2) + 0.0625*x2**4*sqrt(x1**2 + x2**2) + 0.5*x2**2*sqrt(x1**2 + x2**2) + sqrt(x1**2 + x2**2)) + 12*x1*x2*sin(12*sqrt(x1**2 + x2**2))/(0.5*x1**4*sqrt(x1**2 + x2**2) + 1.0*x1**2*x2**2*sqrt(x1**2 + x2**2) + 2*x1**2*sqrt(x1**2 + x2**2) + 0.5*x2**4*sqrt(x1**2 + x2**2) + 2*x2**2*sqrt(x1**2 + x2**2)) - 144*x1*x2*cos(12*sqrt(x1**2 + x2**2))/(0.5*x1**4 + 1.0*x1**2*x2**2 + 2*x1**2 + 0.5*x2**4 + 2*x2**2)],\n",
       "[                                                                                                                                                                                                                                                                                                                               0.25*x1*x2*cos(12*sqrt(x1**2 + x2**2))/(0.015625*x1**6 + 0.046875*x1**4*x2**2 + 0.1875*x1**4 + 0.046875*x1**2*x2**4 + 0.375*x1**2*x2**2 + 0.75*x1**2 + 0.015625*x2**6 + 0.1875*x2**4 + 0.75*x2**2 + 1) + 0.25*x1*x2/(0.015625*x1**6 + 0.046875*x1**4*x2**2 + 0.1875*x1**4 + 0.046875*x1**2*x2**4 + 0.375*x1**2*x2**2 + 0.75*x1**2 + 0.015625*x2**6 + 0.1875*x2**4 + 0.75*x2**2 + 1) + 6.0*x1*x2*sin(12*sqrt(x1**2 + x2**2))/(0.0625*x1**4*sqrt(x1**2 + x2**2) + 0.125*x1**2*x2**2*sqrt(x1**2 + x2**2) + 0.5*x1**2*sqrt(x1**2 + x2**2) + 0.0625*x2**4*sqrt(x1**2 + x2**2) + 0.5*x2**2*sqrt(x1**2 + x2**2) + sqrt(x1**2 + x2**2)) + 12*x1*x2*sin(12*sqrt(x1**2 + x2**2))/(0.5*x1**4*sqrt(x1**2 + x2**2) + 1.0*x1**2*x2**2*sqrt(x1**2 + x2**2) + 2*x1**2*sqrt(x1**2 + x2**2) + 0.5*x2**4*sqrt(x1**2 + x2**2) + 2*x2**2*sqrt(x1**2 + x2**2)) - 144*x1*x2*cos(12*sqrt(x1**2 + x2**2))/(0.5*x1**4 + 1.0*x1**2*x2**2 + 2*x1**2 + 0.5*x2**4 + 2*x2**2), 0.25*x2**2*cos(12*sqrt(x1**2 + x2**2))/(0.015625*x1**6 + 0.046875*x1**4*x2**2 + 0.1875*x1**4 + 0.046875*x1**2*x2**4 + 0.375*x1**2*x2**2 + 0.75*x1**2 + 0.015625*x2**6 + 0.1875*x2**4 + 0.75*x2**2 + 1) + 0.25*x2**2/(0.015625*x1**6 + 0.046875*x1**4*x2**2 + 0.1875*x1**4 + 0.046875*x1**2*x2**4 + 0.375*x1**2*x2**2 + 0.75*x1**2 + 0.015625*x2**6 + 0.1875*x2**4 + 0.75*x2**2 + 1) + 6.0*x2**2*sin(12*sqrt(x1**2 + x2**2))/(0.0625*x1**4*sqrt(x1**2 + x2**2) + 0.125*x1**2*x2**2*sqrt(x1**2 + x2**2) + 0.5*x1**2*sqrt(x1**2 + x2**2) + 0.0625*x2**4*sqrt(x1**2 + x2**2) + 0.5*x2**2*sqrt(x1**2 + x2**2) + sqrt(x1**2 + x2**2)) + 12*x2**2*sin(12*sqrt(x1**2 + x2**2))/(0.5*x1**4*sqrt(x1**2 + x2**2) + 1.0*x1**2*x2**2*sqrt(x1**2 + x2**2) + 2*x1**2*sqrt(x1**2 + x2**2) + 0.5*x2**4*sqrt(x1**2 + x2**2) + 2*x2**2*sqrt(x1**2 + x2**2)) - 144*x2**2*cos(12*sqrt(x1**2 + x2**2))/(0.5*x1**4 + 1.0*x1**2*x2**2 + 2*x1**2 + 0.5*x2**4 + 2*x2**2) - 0.25*cos(12*sqrt(x1**2 + x2**2))/(0.0625*x1**4 + 0.125*x1**2*x2**2 + 0.5*x1**2 + 0.0625*x2**4 + 0.5*x2**2 + 1) - 0.25/(0.0625*x1**4 + 0.125*x1**2*x2**2 + 0.5*x1**2 + 0.0625*x2**4 + 0.5*x2**2 + 1) - 12*sin(12*sqrt(x1**2 + x2**2))/(0.5*x1**2*sqrt(x1**2 + x2**2) + 0.5*x2**2*sqrt(x1**2 + x2**2) + 2*sqrt(x1**2 + x2**2))]])"
      ]
     },
     "execution_count": 71,
     "metadata": {},
     "output_type": "execute_result"
    }
   ],
   "source": [
    "hessian_f2 = sy.hessian(f_2, (x1, x2)).expand()\n",
    "print(\"This is the Hesssian for Q2 just to  see \")\n",
    "hessian_f2"
   ]
  },
  {
   "cell_type": "code",
   "execution_count": 72,
   "metadata": {},
   "outputs": [
    {
     "name": "stdout",
     "output_type": "stream",
     "text": [
      "wow this is literally disgusting \n"
     ]
    }
   ],
   "source": [
    "print(\"wow this is literally disgusting \")"
   ]
  },
  {
   "cell_type": "code",
   "execution_count": 79,
   "metadata": {},
   "outputs": [],
   "source": [
    "\n",
    "def bfgs(df, x0, maxiter = 1000, alpha = .001, eps =1e-10):\n",
    "    iters = 0\n",
    "    x_old = x0\n",
    "    s_old = np.ones(len(x0))\n",
    "    u_old = np.ones(len(df(x0)))\n",
    "    g_old = df(x0)\n",
    "    H_old = (s_old.T@u_old / np.linalg.norm(u_old)) * np.eye(df(x0).shape[0])\n",
    "    conv = []\n",
    "    for i in range(maxiter):\n",
    "        \n",
    "        H_new = (np.eye(len(x_old)) - (np.outer(s_old,u_old) / np.inner(s_old,u_old))) @ H_old @ (np.eye(len(x_old)) - (np.outer(u_old,s_old)/np.inner(u_old,s_old))) + np.outer(s_old,s_old) / (u_old@s_old)\n",
    "        \n",
    "        x_new = x_old - alpha*g_old@H_new\n",
    "        g_new = df(x_new)\n",
    "        conv.append(np.linalg.norm(x_new - x_old))\n",
    "        iters += 1\n",
    "        if np.linalg.norm(H_new-H_old)<eps:\n",
    "            break\n",
    "        if g_new.all() == 0:\n",
    "            break\n",
    "        s_old = (x_new - x_old)\n",
    "        u_old = (g_new - g_old)\n",
    "        g_old = g_new\n",
    "        x_old = x_new\n",
    "        H_old = H_new\n",
    "        \n",
    "    return x_new, conv\n",
    "bfgs_f2_pt1, bfgs_f2_conv1 = bfgs(df2, np.random.choice(np.linspace(-5,5), 2),  alpha = .01)      \n",
    "bfgs_f2_pt2, bfgs_f2_conv2 = bfgs(df2, np.random.choice(np.linspace(-5,5), 2),  alpha = .01)  "
   ]
  },
  {
   "cell_type": "code",
   "execution_count": 82,
   "metadata": {},
   "outputs": [],
   "source": [
    "bfgs_points = [bfgs_f2_pt1, bfgs_f2_pt2]\n",
    "q2_conv = [bfgs_f2_conv1, bfgs_f2_conv2]\n"
   ]
  },
  {
   "cell_type": "code",
   "execution_count": 115,
   "metadata": {},
   "outputs": [],
   "source": [
    "from math import sqrt\n",
    "def adam(f,df,x0, b1=.9, b2=.999, e=.01, m=.9, eta=1e-3,  N=1000, eps = 1e-12):\n",
    "    iteration = 0\n",
    "    fs = []\n",
    "    xold = x0\n",
    "    g = df(xold)\n",
    "    m = b1*np.zeros(len(x0))+(1-b1)*df(xold)\n",
    "    v = np.sqrt((1-b2)*df(xold)**2)\n",
    "    xnew = xold  - eta*(np.sqrt(1-b2))/(1-b1)*m/(v+e)\n",
    "    \n",
    "    for i in range(N):\n",
    "        \n",
    "        xold = xnew\n",
    "        \n",
    "        right = df(xold)\n",
    "        m = b1*m + (1-b1)*df(xold)\n",
    "        v = np.sqrt((b2*v)+(1-b2)*df(xold)**2)\n",
    "        #print(type(v))\n",
    "        xnew =  xold - eta*((sqrt(1-b2))/(1-b1))*m/(v+e)\n",
    "        iteration += 1 \n",
    "        fs.append(np.linalg.norm(xnew-xold))\n",
    "    return xnew, fs"
   ]
  },
  {
   "cell_type": "code",
   "execution_count": 123,
   "metadata": {},
   "outputs": [],
   "source": [
    "adam_f2_point1, adam_f2_conv1 = adam(f2, df2, np.random.choice(np.linspace(-5,5), 2), e=1e-8, eta=.01, N=1000, eps = 1e-12)\n"
   ]
  },
  {
   "cell_type": "code",
   "execution_count": 124,
   "metadata": {},
   "outputs": [
    {
     "data": {
      "text/plain": [
       "array([-1.6167283 , -2.38314893])"
      ]
     },
     "execution_count": 124,
     "metadata": {},
     "output_type": "execute_result"
    }
   ],
   "source": [
    "adam_f2_point1"
   ]
  },
  {
   "cell_type": "code",
   "execution_count": 126,
   "metadata": {},
   "outputs": [
    {
     "data": {
      "image/png": "[encoded data removed]",
      "text/plain": [
       "<Figure size 432x288 with 1 Axes>"
      ]
     },
     "metadata": {
      "needs_background": "light"
     },
     "output_type": "display_data"
    }
   ],
   "source": [
    "plt.plot(adam_f2_conv1)\n",
    "plt.title(\"convergence of  adam q2\")\n",
    "plt.show()"
   ]
  },
  {
   "cell_type": "markdown",
   "metadata": {},
   "source": [
    " ####  Note that this function will likely be much more difficult to minimize. Why is that the case? Do either of the methods you chose actually reach a global minimizer? \n",
    " \n",
    " If we look at the hessian matrix, we can see that it is literally disgusting, so there are many local minima, so because we start each attempt to find the global minuma by selecting a random point from within the domain. Because the hessian is so complex, the derivative changes only slightly, so in attempting to trying go through the gradient descent, we get stuck easily when our learning rate is small, but when it is  big, we  diverge easily, so  balancing  those two hyper  parameters is  really hard "
   ]
  },
  {
   "cell_type": "markdown",
   "metadata": {},
   "source": [
    "#### Do either of the methods you chose actually reach a global minimizer? \n",
    "\n",
    "I do not  believe I found the global from either approach "
   ]
  },
  {
   "cell_type": "code",
   "execution_count": null,
   "metadata": {},
   "outputs": [],
   "source": []
  },
  {
   "cell_type": "markdown",
   "metadata": {},
   "source": [
    "# Question 3 \n",
    "\n",
    "Develop a neural network that classifies all 10 digits of MNIST. Report on the accuracy/loss\n",
    "of the training when you are done. You should be able to achieve at least 95% accuracy\n",
    "relatively easily. Feel free to use either linear or convolutional layers with pooling."
   ]
  },
  {
   "cell_type": "code",
   "execution_count": 127,
   "metadata": {},
   "outputs": [],
   "source": [
    "import torch\n",
    "import torchvision ## Contains some utilities for working with the image data\n",
    "from torchvision.datasets import MNIST\n",
    "import matplotlib.pyplot as plt\n",
    "#%matplotlib inline\n",
    "import torchvision.transforms as transforms\n",
    "from torchvision import datasets\n",
    "from torch.utils.data import random_split\n",
    "from torch.utils.data import DataLoader\n",
    "import torch.nn.functional as F\n",
    "import torch.nn as nn"
   ]
  },
  {
   "cell_type": "code",
   "execution_count": 128,
   "metadata": {},
   "outputs": [],
   "source": [
    "mnist_train = datasets.MNIST(\"./data\", train=True, download=True, transform=transforms.ToTensor())\n",
    "mnist_test = datasets.MNIST(\"./data\", train=False, download=True, transform=transforms.ToTensor())"
   ]
  },
  {
   "cell_type": "code",
   "execution_count": 129,
   "metadata": {},
   "outputs": [],
   "source": [
    "#going to shuffle the data just in case there are any sequential dependencies  \n",
    "train_loader = DataLoader(mnist_train, batch_size = 100, shuffle=True)\n",
    "test_loader = DataLoader(mnist_test, batch_size = 100, shuffle=False)"
   ]
  },
  {
   "cell_type": "code",
   "execution_count": 130,
   "metadata": {},
   "outputs": [
    {
     "data": {
      "image/png": "[encoded data removed]",
      "text/plain": [
       "<Figure size 432x288 with 25 Axes>"
      ]
     },
     "metadata": {
      "needs_background": "light"
     },
     "output_type": "display_data"
    }
   ],
   "source": [
    "#looking at a sample of our data \n",
    "imgs = (test_loader.dataset.data.float()/225).view(len(test_loader.dataset), -1)\n",
    "f,ax = plt.subplots(5,5, sharey=True)\n",
    "for i in range(25):\n",
    "    ax[i%5][i//5].imshow(1-imgs[i].view(28,28).numpy(), cmap=\"gray\")\n",
    "    ax"
   ]
  },
  {
   "cell_type": "code",
   "execution_count": 131,
   "metadata": {},
   "outputs": [],
   "source": [
    "def accuracy(outs, targs):\n",
    "    _, preds = torch.max(outs, dim = 1)\n",
    "    return(torch.tensor(torch.sum(preds == targs).item()/ len(preds)))"
   ]
  },
  {
   "cell_type": "code",
   "execution_count": 132,
   "metadata": {},
   "outputs": [],
   "source": [
    "class q3_model(nn.Module):\n",
    "    def __init__(self):\n",
    "        super().__init__()\n",
    "        self.conv1 = nn.Conv2d(1,24,5)\n",
    "        self.conv2 = nn.Conv2d(24,8,3)\n",
    "        self.conv3 = nn.Conv2d(8,1,3)\n",
    "        self.linear1 = nn.Linear(3872,10)\n",
    "\n",
    "    def forward (self,inp):\n",
    "        intermed1 = self.conv1(inp)\n",
    "        intermed1 = F.relu(intermed1)\n",
    "        intermed2 = self.conv2(intermed1)\n",
    "        intermed2 = F.relu(intermed2)\n",
    "        #reshape \n",
    "        intermed2 = intermed2.view(intermed2.size(0), -1) \n",
    "        out = self.linear1(intermed2)\n",
    "        return(out)\n",
    "\n",
    "    def train(self, batch):\n",
    "        imgs, targs = batch\n",
    "        out = self(imgs)\n",
    "        loss = F.cross_entropy(out,targs)\n",
    "        return(loss)\n",
    "\n",
    "    def validate(self, batch):\n",
    "        imgs, targs = batch\n",
    "        out = self(imgs)\n",
    "        loss = F.cross_entropy(out,targs)\n",
    "        acc = accuracy(out,targs)\n",
    "        return({'validate_loss':loss, 'validate_accuracy': acc})\n",
    "\n",
    "    def validate_epoch_end(self, outs):\n",
    "        batch_loss = [x['validate_loss'] for x in outs]\n",
    "        epoch_loss = torch.stack(batch_loss).mean()\n",
    "        batch_accs = [x['validate_accuracy'] for x in outs]\n",
    "        epoch_acc = torch.stack(batch_accs).mean()\n",
    "        return({'validate_loss': epoch_loss.item(), 'validate_accuracy' : epoch_acc.item()})\n",
    "    \n",
    "    def epoch_end(self, epoch,result):\n",
    "        print(\"Epoch [{}], validate_loss: {:.4f}, validate_accuracy: {:.4f}\".format(epoch, result['validate_loss'], result['validate_accuracy']))\n",
    "\n",
    "\n",
    "\n"
   ]
  },
  {
   "cell_type": "code",
   "execution_count": 133,
   "metadata": {},
   "outputs": [],
   "source": [
    "def evaluate(model, test_loader):\n",
    "    outputs = [model.validate(batch) for batch in test_loader]\n",
    "    return(model.validate_epoch_end(outputs))\n",
    "    \n",
    "    \n",
    "def fit(epochs, lr, model, train_loader, test_loader, opt_func = torch.optim.SGD):\n",
    "    history = []\n",
    "    opt = opt_func(model.parameters(), lr)\n",
    "    for epoch in range(epochs):\n",
    "        \n",
    "        ## Training Phase\n",
    "        for batch in train_loader:\n",
    "            loss = model.train(batch)\n",
    "            loss.backward()\n",
    "            opt.step()\n",
    "            opt.zero_grad()\n",
    "        \n",
    "        ## Validation phase\n",
    "        result = evaluate(model, test_loader)\n",
    "        model.epoch_end(epoch, result)\n",
    "        history.append(result)\n",
    "    return(history)"
   ]
  },
  {
   "cell_type": "code",
   "execution_count": 134,
   "metadata": {},
   "outputs": [
    {
     "name": "stdout",
     "output_type": "stream",
     "text": [
      "Epoch [0], validate_loss: 0.3570, validate_accuracy: 0.8926\n",
      "Epoch [1], validate_loss: 0.3056, validate_accuracy: 0.9129\n",
      "Epoch [2], validate_loss: 0.2755, validate_accuracy: 0.9222\n",
      "Epoch [3], validate_loss: 0.2410, validate_accuracy: 0.9279\n",
      "Epoch [4], validate_loss: 0.1924, validate_accuracy: 0.9438\n",
      "Epoch [5], validate_loss: 0.1458, validate_accuracy: 0.9579\n",
      "Epoch [6], validate_loss: 0.1185, validate_accuracy: 0.9672\n",
      "Epoch [7], validate_loss: 0.1026, validate_accuracy: 0.9709\n",
      "Epoch [8], validate_loss: 0.0892, validate_accuracy: 0.9738\n",
      "Epoch [9], validate_loss: 0.0829, validate_accuracy: 0.9754\n"
     ]
    }
   ],
   "source": [
    "model3 = q3_model()\n",
    "history3 = fit(10, 0.01, model3, train_loader, test_loader)"
   ]
  },
  {
   "cell_type": "markdown",
   "metadata": {},
   "source": [
    "we got to a greater than 95% accuracy, we used a convolution, with a size of 5 at first, and then a size of 3, and hade each layer have a decreasing number of nodes as we got deeper.  It was only 4 layers, 3 convolutions and one linear layer for our output. "
   ]
  },
  {
   "cell_type": "markdown",
   "metadata": {},
   "source": []
  },
  {
   "cell_type": "code",
   "execution_count": 145,
   "metadata": {},
   "outputs": [
    {
     "data": {
      "text/plain": [
       "12.1"
      ]
     },
     "execution_count": 145,
     "metadata": {},
     "output_type": "execute_result"
    }
   ],
   "source": [
    "3872/()"
   ]
  },
  {
   "cell_type": "code",
   "execution_count": 141,
   "metadata": {},
   "outputs": [
    {
     "data": {
      "text/plain": [
       "60.5"
      ]
     },
     "execution_count": 141,
     "metadata": {},
     "output_type": "execute_result"
    }
   ],
   "source": [
    "484/"
   ]
  },
  {
   "cell_type": "code",
   "execution_count": null,
   "metadata": {},
   "outputs": [],
   "source": []
  }
 ],
 "metadata": {
  "kernelspec": {
   "display_name": "Python 3",
   "language": "python",
   "name": "python3"
  },
  "language_info": {
   "codemirror_mode": {
    "name": "ipython",
    "version": 3
   },
   "file_extension": ".py",
   "mimetype": "text/x-python",
   "name": "python",
   "nbconvert_exporter": "python",
   "pygments_lexer": "ipython3",
   "version": "3.8.2"
  }
 },
 "nbformat": 4,
 "nbformat_minor": 4
}
