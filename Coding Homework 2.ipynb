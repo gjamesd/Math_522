{
 "cells": [
  {
   "cell_type": "markdown",
   "metadata": {},
   "source": [
    "# James Griffin \n",
    "## Math 522 "
   ]
  },
  {
   "cell_type": "markdown",
   "metadata": {},
   "source": [
    "###### #1 \n",
    "Create your own Newton optimizer method (including the use of the full Hessian matrix).\n",
    "Implement this for the first two functions from the first written homework and compare\n",
    "how well it performs relative to gradient descent, Nesterov, AdaGrad and Adam that you\n",
    "coded up previously."
   ]
  },
  {
   "cell_type": "code",
   "execution_count": 14,
   "metadata": {},
   "outputs": [],
   "source": [
    "import numpy as np\n",
    "import matplotlib.pyplot as plt \n",
    "from scipy import optimize\n",
    "import sympy as sy\n",
    "from sympy import symbols\n",
    "from math import cos, sqrt, sin "
   ]
  },
  {
   "cell_type": "code",
   "execution_count": 16,
   "metadata": {},
   "outputs": [
    {
     "name": "stdout",
     "output_type": "stream",
     "text": [
      "This is the Hesssian for Q1 of the first written\n"
     ]
    },
    {
     "data": {
      "text/latex": [
       "$\\displaystyle \\left[\\begin{matrix}2.0 x_{2}^{6} + 2.0 x_{2}^{4} - 4.0 x_{2}^{3} - 2.0 x_{2}^{2} - 4.0 x_{2} + 6.0 & 12.0 x_{1} x_{2}^{5} + 8.0 x_{1} x_{2}^{3} - 12.0 x_{1} x_{2}^{2} - 4.0 x_{1} x_{2} - 4.0 x_{1} + 15.75 x_{2}^{2} + 9.0 x_{2} + 3.0\\\\12.0 x_{1} x_{2}^{5} + 8.0 x_{1} x_{2}^{3} - 12.0 x_{1} x_{2}^{2} - 4.0 x_{1} x_{2} - 4.0 x_{1} + 15.75 x_{2}^{2} + 9.0 x_{2} + 3.0 & 30.0 x_{1}^{2} x_{2}^{4} + 12.0 x_{1}^{2} x_{2}^{2} - 12.0 x_{1}^{2} x_{2} - 2.0 x_{1}^{2} + 31.5 x_{1} x_{2} + 9.0 x_{1}\\end{matrix}\\right]$"
      ],
      "text/plain": [
       "Matrix([\n",
       "[                                  2.0*x2**6 + 2.0*x2**4 - 4.0*x2**3 - 2.0*x2**2 - 4.0*x2 + 6.0, 12.0*x1*x2**5 + 8.0*x1*x2**3 - 12.0*x1*x2**2 - 4.0*x1*x2 - 4.0*x1 + 15.75*x2**2 + 9.0*x2 + 3.0],\n",
       "[12.0*x1*x2**5 + 8.0*x1*x2**3 - 12.0*x1*x2**2 - 4.0*x1*x2 - 4.0*x1 + 15.75*x2**2 + 9.0*x2 + 3.0,          30.0*x1**2*x2**4 + 12.0*x1**2*x2**2 - 12.0*x1**2*x2 - 2.0*x1**2 + 31.5*x1*x2 + 9.0*x1]])"
      ]
     },
     "execution_count": 16,
     "metadata": {},
     "output_type": "execute_result"
    }
   ],
   "source": [
    "## importing functions \n",
    "x1,x2 = sy.symbols('x1, x2')\n",
    "f1 = (1.5 - x1 + x1*x2)**2 + (2.25 - x1 + x1*x2**2)**2 + (2.625 - x1 + x1*x2**3)**2\n",
    "hessian_f1 = sy.hessian(f1, (x1, x2)).expand()\n",
    "print(\"This is the Hesssian for Q1 of the first written\")\n",
    "hessian_f1"
   ]
  },
  {
   "cell_type": "code",
   "execution_count": 17,
   "metadata": {},
   "outputs": [],
   "source": [
    "# x1,x2 = sy.symbols('x1, x2')\n",
    "# f1 = (1.5 - x1 + x1*x2)**2 + (2.25 - x1 + x1*x2**2)**2 + (2.625 - x1 + x1*x2**3)**2\n",
    "# Df1 = f1.diff(x1)\n",
    "# Df2 = f1.diff(x2)\n",
    "\n",
    "# Df1_lambdified = sy.lambdify((x1,x2),sy.Matrix([Df1, Df2]))\n",
    "# df_1 = lambda x: Df1_lambdified(x[0],x[1])[:,0]"
   ]
  },
  {
   "cell_type": "code",
   "execution_count": 18,
   "metadata": {},
   "outputs": [],
   "source": [
    "Df1_x1 = f_1.diff(x1).expand()\n",
    "Df1_x1x2 = Df1_x1.diff(x2).expand()\n",
    "Df1_x2 = f_1.diff(x2).expand()\n",
    "Df1_x2x1 = Df1_x2.diff(x1).expand()\n",
    "\n",
    "def get_lambda_func(func):\n",
    "    func_p = sy.lambdify((x1,x2), func)\n",
    "    func_l = lambda x: func_p(x[0], x[1])\n",
    "    return func_l\n",
    "\n",
    "df1_x1_l = get_lambda_func(Df1_x1)\n",
    "df1_x1x2_l = get_lambda_func(Df1_x1x2)\n",
    "df1_x2_l= get_lambda_func(Df1_x2)\n",
    "df1_x2x1_l = get_lambda_func(Df1_x2x1)\n",
    "\n",
    "\n",
    "hessian_1 = np.array([df1_x1_l, df1_x1x2_l, df1_x2_l, df1_x2x1_l])"
   ]
  },
  {
   "cell_type": "code",
   "execution_count": 19,
   "metadata": {},
   "outputs": [],
   "source": [
    "def f_1(x):\n",
    "    #Beale's function (note that Python indexes starting at 0, not 1)\n",
    "    return (1.5-x[0]+x[0]*x[1])**2 + (2.25-x[0]+x[0]*x[1]**2)**2 + (2.625-x[0]+x[0]*x[1]**3)**2\n",
    "\n",
    "def df1(x):\n",
    "    #gradient of Beale's function\n",
    "    return np.array([2*(1.5-x[0]+x[0]*x[1])*(-1+x[1]) + 2*(2.25-x[0]+x[0]*x[1]**2)*(-1+x[1]**2) + 2*(2.625-x[0]+x[0]*x[1]**3)*(-1+x[1]**3), 2*x[0]*(1.5-x[0]+x[0]*x[1]) + 4*x[0]*x[1]*(2.25-x[0]+x[0]*x[1]**2) + 6*x[0]*x[1]**2*(2.625-x[0]+x[0]*x[1]**3)])"
   ]
  },
  {
   "cell_type": "code",
   "execution_count": 20,
   "metadata": {},
   "outputs": [],
   "source": [
    "def get_H(H, x):\n",
    "    return np.array(([H[0](x), H[1](x)], [H[2](x), H[3](x)]))\n"
   ]
  },
  {
   "cell_type": "code",
   "execution_count": 21,
   "metadata": {},
   "outputs": [
    {
     "name": "stdout",
     "output_type": "stream",
     "text": [
      "This is the Hesssian for Q2 of the first written\n"
     ]
    },
    {
     "data": {
      "text/latex": [
       "$\\displaystyle \\left[\\begin{matrix}12 x_{1}^{2} + 4 x_{2} - 42 & 4 x_{1} + 4 x_{2}\\\\4 x_{1} + 4 x_{2} & 4 x_{1} + 12 x_{2}^{2} - 26\\end{matrix}\\right]$"
      ],
      "text/plain": [
       "Matrix([\n",
       "[12*x1**2 + 4*x2 - 42,          4*x1 + 4*x2],\n",
       "[         4*x1 + 4*x2, 4*x1 + 12*x2**2 - 26]])"
      ]
     },
     "execution_count": 21,
     "metadata": {},
     "output_type": "execute_result"
    }
   ],
   "source": [
    "def f_2(x):\n",
    "    #Himmelblau's function\n",
    "    return (x[0]**2+x[1]-11)**2 + (x[0]+x[1]**2-7)**2\n",
    "\n",
    "def df2(x):\n",
    "    #gradient of Himmelblau's function\n",
    "    return np.array([4*x[0]*(x[0]**2+x[1]-11) + 2*(x[0]+x[1]**2-7), 2*(x[0]**2+x[1]-11) + 4*x[1]*(x[0]+x[1]**2-7)])\n",
    "\n",
    "x1,x2 = sy.symbols('x1, x2', real=True)\n",
    "f2 = (x1**2 + x2 - 11)**2 + (x1 +  x2**2 - 7)**2 \n",
    "f2\n",
    "\n",
    "\n",
    "df2_x1 = f2.diff(x1)\n",
    "df2_x2 = f2.diff(x2)\n",
    "df2_x1x2 = df2_x1.diff(x2).expand()\n",
    "df2_x2x1 = df2_x2.diff(x1).expand()\n",
    "\n",
    "df2_x1_l = get_lambda_func(df2_x1)\n",
    "df2_x1x2_l = get_lambda_func(df2_x1x2)\n",
    "df2_x2_l= get_lambda_func(df2_x2)\n",
    "df2_x2x1_l = get_lambda_func(df2_x2x1)\n",
    "\n",
    "\n",
    "print(\"This is the Hesssian for Q2 of the first written\")\n",
    "hessian_f2 = sy.hessian(f2, (x1, x2)).expand()\n",
    "hessian_f2"
   ]
  },
  {
   "cell_type": "code",
   "execution_count": 22,
   "metadata": {},
   "outputs": [],
   "source": [
    "hessian_2 = np.array([df2_x1_l, df2_x1x2_l, df2_x2_l, df2_x2x1_l])"
   ]
  },
  {
   "cell_type": "code",
   "execution_count": 23,
   "metadata": {},
   "outputs": [
    {
     "data": {
      "text/plain": [
       "array([[-2298.6440169 , -5883.07520914],\n",
       "       [14897.70776906, -5883.07520914]])"
      ]
     },
     "execution_count": 23,
     "metadata": {},
     "output_type": "execute_result"
    }
   ],
   "source": [
    "get_H(hessian_1, [-5.17205458,  2.48045137])"
   ]
  },
  {
   "cell_type": "code",
   "execution_count": 80,
   "metadata": {},
   "outputs": [],
   "source": [
    "def newtons(f,df,x0,H, eta=.001, N=1000, eps=1e-10):\n",
    "    #Initialize ierations \n",
    "    iterations = 0\n",
    "    #store f values \n",
    "    f_vals = []\n",
    "    f_norms = []\n",
    "    #start x_0 at guess \n",
    "    x_old = x0\n",
    "    print(x_old)\n",
    "    #print(type(x_old))\n",
    "    v = -eta*df(x_old) #the initial velocity \n",
    "    x_new = x_old+v #the first step forward\n",
    "    while np.linalg.norm(x_new-x_old)>eps and iterations < N:\n",
    "        #f_vals.append(np.linalg.norm(x_new-x_old))\n",
    "        x_old = x_new\n",
    "        #print(x_old)\n",
    "        H_old = get_H(H, x_old)\n",
    "        #print(H_old)\n",
    "        x_new = x_old-eta*np.linalg.solve(H_old, df(x_old))\n",
    "        #print(x_new)\n",
    "        \n",
    "        iterations+=1\n",
    "        f_norms.append(np.linalg.norm(x_new-x_old))\n",
    "        f_vals = f(x_new-x_old)\n",
    "    return x_new, f_vals, f_norms, #iterations#x_new#, f(xnew)\n"
   ]
  },
  {
   "cell_type": "code",
   "execution_count": 81,
   "metadata": {},
   "outputs": [
    {
     "name": "stdout",
     "output_type": "stream",
     "text": [
      "[3.1 0.5]\n"
     ]
    },
    {
     "data": {
      "text/plain": [
       "array([-6.90031563,  0.50118188])"
      ]
     },
     "execution_count": 81,
     "metadata": {},
     "output_type": "execute_result"
    }
   ],
   "source": [
    "f1_point, f1_val, f1_norms = newtons(f_1, df1, x0=np.array([3.1,.5]),\n",
    "                                              H=hessian_1,eta=.001,\n",
    "                                              N = 10000)\n",
    "f1_point"
   ]
  },
  {
   "cell_type": "markdown",
   "metadata": {},
   "source": [
    "Comparing the point of where my newtons method got to vs the starting point, which was rerally close to the original. So esentially im getting further away even though I'm iterating 10k times. \n",
    "\n",
    "And here below we see the plot of the size of the norm, esentially our information gain is essentially zero right after the start. "
   ]
  },
  {
   "cell_type": "code",
   "execution_count": 84,
   "metadata": {},
   "outputs": [
    {
     "data": {
      "image/png": "[encoded data removed]",
      "text/plain": [
       "<Figure size 432x288 with 1 Axes>"
      ]
     },
     "metadata": {
      "needs_background": "light"
     },
     "output_type": "display_data"
    }
   ],
   "source": [
    "plt.plot(f1_norms, label = 'Newtons')\n",
    "plt.title(\"function 1 convergence via Newtons Method\")\n",
    "plt.legend()\n",
    "plt.show()"
   ]
  },
  {
   "cell_type": "code",
   "execution_count": 86,
   "metadata": {},
   "outputs": [
    {
     "name": "stdout",
     "output_type": "stream",
     "text": [
      "[0.69265372 0.72641031]\n"
     ]
    },
    {
     "data": {
      "text/plain": [
       "array([0.83386361, 1.49034445])"
      ]
     },
     "execution_count": 86,
     "metadata": {},
     "output_type": "execute_result"
    }
   ],
   "source": [
    "f2_point, f2_val, f2_norms = newtons(f_2, df2, x0=np.random.rand(2),\n",
    "                                              H=hessian_1,eta=.0001,\n",
    "                                              N = 10000)\n",
    "f2_point"
   ]
  },
  {
   "cell_type": "markdown",
   "metadata": {},
   "source": [
    "Convergence much more nicely here in this function, "
   ]
  },
  {
   "cell_type": "code",
   "execution_count": 87,
   "metadata": {},
   "outputs": [
    {
     "data": {
      "image/png": "[encoded data removed]",
      "text/plain": [
       "<Figure size 432x288 with 1 Axes>"
      ]
     },
     "metadata": {
      "needs_background": "light"
     },
     "output_type": "display_data"
    }
   ],
   "source": [
    "plt.plot(f2_norms, label = 'Newtons')\n",
    "plt.title(\"function 2 convergence via Newtons Method\")\n",
    "plt.legend()\n",
    "plt.show()"
   ]
  },
  {
   "cell_type": "markdown",
   "metadata": {},
   "source": [
    "###### #2\n",
    "Do the same as the previous problem but now for BFGS. Compare the convergence of the\n",
    "full Newton method with BFGS. Does it make a big difference? Illustrate the differences\n",
    "with figures (plot convergence of the minima for example)."
   ]
  },
  {
   "cell_type": "code",
   "execution_count": 128,
   "metadata": {},
   "outputs": [],
   "source": [
    "def bfgs(df, x0, maxiter = 1000, alpha = .001, eps =1e-10):\n",
    "    iters = 0\n",
    "    x_old = x0\n",
    "    s_old = np.ones(len(x0))\n",
    "    u_old = np.ones(len(df(x0)))\n",
    "    g_old = df(x0)\n",
    "    H_old = (s_old.T@u_old / np.linalg.norm(u_old)) * np.eye(df(x0).shape[0])\n",
    "    conv = []\n",
    "    for i in range(maxiter):\n",
    "        \n",
    "        H_new = (np.eye(len(x_old)) - (np.outer(s_old,u_old) / np.inner(s_old,u_old))) @ H_old @ (np.eye(len(x_old)) - (np.outer(u_old,s_old)/np.inner(u_old,s_old))) + np.outer(s_old,s_old) / (u_old@s_old)\n",
    "        \n",
    "        x_new = x_old - alpha*g_old@H_new\n",
    "        g_new = df(x_new)\n",
    "        conv.append(np.linalg.norm(x_new - x_old))\n",
    "        iters += 1\n",
    "        if np.linalg.norm(H_new-H_old)<eps:\n",
    "            break\n",
    "        if g_new.all() == 0:\n",
    "            break\n",
    "        s_old = (x_new - x_old)\n",
    "        u_old = (g_new - g_old)\n",
    "        g_old = g_new\n",
    "        x_old = x_new\n",
    "        H_old = H_new\n",
    "        \n",
    "    return x_new, conv\n",
    "        "
   ]
  },
  {
   "cell_type": "code",
   "execution_count": 129,
   "metadata": {},
   "outputs": [],
   "source": [
    "bfgs_f1_pt, bfgs_f1_conv = bfgs(df1, np.random.rand(2))\n",
    "bfgs_f2_pt, bfgs_f2_conv = bfgs(df2, np.random.rand(2))"
   ]
  },
  {
   "cell_type": "code",
   "execution_count": 130,
   "metadata": {},
   "outputs": [
    {
     "data": {
      "text/plain": [
       "[<matplotlib.lines.Line2D at 0x7ff96bdfcf10>]"
      ]
     },
     "execution_count": 130,
     "metadata": {},
     "output_type": "execute_result"
    },
    {
     "data": {
      "image/png": "[encoded data removed]",
      "text/plain": [
       "<Figure size 432x288 with 1 Axes>"
      ]
     },
     "metadata": {
      "needs_background": "light"
     },
     "output_type": "display_data"
    }
   ],
   "source": [
    "plt.plot(bfgs_f2_conv[:200])"
   ]
  },
  {
   "cell_type": "code",
   "execution_count": 131,
   "metadata": {},
   "outputs": [
    {
     "data": {
      "image/png": "[encoded data removed]",
      "text/plain": [
       "<Figure size 432x288 with 1 Axes>"
      ]
     },
     "metadata": {
      "needs_background": "light"
     },
     "output_type": "display_data"
    }
   ],
   "source": [
    "plt.plot(f2_norms[:500], label = 'Newtons')\n",
    "plt.plot(bfgs_f2_conv, label = \"BFGS\")\n",
    "plt.title(\"function 2 convergence Comparison between Newtons and BGFS\")\n",
    "plt.legend()\n",
    "plt.show()"
   ]
  },
  {
   "cell_type": "markdown",
   "metadata": {},
   "source": [
    "Thats super intresting, the bfgs goes up and hen comes way down and converges in the first 400 where Newtons didnt converge to a really good spot for the first 10,000 iterations."
   ]
  },
  {
   "cell_type": "markdown",
   "metadata": {},
   "source": [
    "###### #3 \n",
    "Now adapt your version of BFGS to work for the other functions from the first written HW.\n",
    "Does this work as well, particularly for the last three functions that are higher dimensional?"
   ]
  },
  {
   "cell_type": "code",
   "execution_count": 132,
   "metadata": {},
   "outputs": [],
   "source": [
    "#question 3\n",
    "\n",
    "def f3(x):\n",
    "    return -(x[1]+47)*sin(sqrt(abs(x[0]/2 + x[1] + 47))) - x[0]*sin(sqrt(abs(x[0] - (x[1] + 47))))\n",
    "    \n",
    "def df3(x):\n",
    "    return np.array([x[0]*cos(sqrt(abs(-x[0] + x[1] + 47)))*np.sign(-x[0] + x[1]+47)/(2*sqrt(abs(-x[0] + x[1]+47)))\n",
    "              + (-x[1] - 47)*cos(sqrt(abs(x[0]/2 + x[1] + 47)))*np.sign(x[0]/2 + x[1]+47)/(4*sqrt(abs(x[0]/2 + x[1]+47)))\n",
    "              - sin(sqrt(abs(-x[0] + x[1] + 47))),\n",
    "              \n",
    "              x[0]*cos(sqrt(abs(-x[0] + x[1] + 47)))*np.sign(-x[0] + x[1]+47)/(2*sqrt(abs(-x[0] + x[1]+47)))\n",
    "              + (-x[1] - 47)*cos(sqrt(abs(x[0]/2 + x[1] + 47)))*np.sign(x[0]/2 + x[1]+47)/(2*sqrt(abs(x[0]/2 + x[1]+47)))\n",
    "              - sin(sqrt(abs(x[0]/2 + x[1] + 47)))])"
   ]
  },
  {
   "cell_type": "code",
   "execution_count": 133,
   "metadata": {},
   "outputs": [],
   "source": [
    "#question 4 \n",
    "x1, x2 = symbols('x1 x2', real = True)\n",
    "f4 = -20*sy.exp(-0.2*sy.sqrt(0.5*(x1**2 + x2**2))) - sy.exp(0.5*(sy.cos(2*sy.pi*x1)+sy.cos(2*sy.pi*x2))) + sy.exp(1) + 20\n",
    "\n",
    "f4p = sy.lambdify((x1,x2), f4)\n",
    "#f4 = lambda x: f4p(x[0], x[1])\n",
    "\n",
    "Df4_1 = f4.diff(x1)\n",
    "Df4_2 = f4.diff(x2)\n",
    "\n",
    "f4 = lambda x: f4p(x[0], x[1])\n",
    "df4_lambdified = sy.lambdify((x1,x2),sy.Matrix([Df4_1, Df4_2]))\n",
    "df4 = lambda x: df4_lambdified(x[0],x[1])[:,0]"
   ]
  },
  {
   "cell_type": "code",
   "execution_count": 134,
   "metadata": {},
   "outputs": [],
   "source": [
    "#Question 5  \n",
    "x1,x2 = sy.symbols('x1, x2', real=True) #not dealing with imaginary roots \n",
    "f_5 = sy.sin(2*sy.pi*x1)**2 + (x1 - 1)**2 * (1 + sy.sin(3*sy.pi*x2)**2) + (x2-1)**2 * (1 + sy.sin(2*sy.pi*x2)**2)\n",
    "f5p = sy.lambdify((x1,x2), f_5)\n",
    "f5 = lambda x: f5p(x[0], x[1])\n",
    "\n",
    "Df1 = f_5.diff(x1)\n",
    "Df2 = f_5.diff(x2)\n",
    "\n",
    "Df5_lambdified = sy.lambdify((x1,x2),sy.Matrix([Df1, Df2]))\n",
    "df5 = lambda x: Df5_lambdified(x[0],x[1])[:,0]"
   ]
  },
  {
   "cell_type": "code",
   "execution_count": null,
   "metadata": {},
   "outputs": [],
   "source": []
  },
  {
   "cell_type": "code",
   "execution_count": 135,
   "metadata": {},
   "outputs": [],
   "source": [
    "#Question 6 \n",
    "def f6(x):\n",
    "    f = 0\n",
    "    for k in range(5):\n",
    "        f += x[k]**4 - 16*x[k]**2 + 5*x[k]\n",
    "    f = f*1/2\n",
    "    return f \n",
    "\n",
    "def df6(x):\n",
    "    df = 4*x**3 - 32*x +5\n",
    "    return  df "
   ]
  },
  {
   "cell_type": "code",
   "execution_count": 136,
   "metadata": {},
   "outputs": [],
   "source": [
    "#Question 7 \n",
    "def f7(x):\n",
    "    f = 0\n",
    "    for k in range(999):\n",
    "        f += x[k]**2 - 10*np.cos(2*np.pi*x[k])\n",
    "    f += 10000\n",
    "    return f \n",
    "\n",
    "def df7(x):\n",
    "    #df = [0]*1000\n",
    "    df = 2*(x) - 20*np.pi*np.sin(2*np.pi*x)\n",
    "    return  df \n",
    "    "
   ]
  },
  {
   "cell_type": "code",
   "execution_count": 137,
   "metadata": {},
   "outputs": [],
   "source": [
    "def f8(x):\n",
    "    #Rosenbrock's function\n",
    "    f = 0\n",
    "    for kk in range(999):\n",
    "        f+= 100*(x[kk+1]-x[kk]**2)**2 + (1-x[kk])**2\n",
    "    return f\n",
    "\n",
    "def df8(x):\n",
    "    #gradient of Rosenbrock's function\n",
    "    df = [0]*1001\n",
    "    df[1:-1] = 200*(x[1:-1]-x[0:-2]**2) - 400*x[1:-1]*(x[2:]-x[1:-1]**2) - 2*(1-x[1:-1])\n",
    "    #df[k] = 200*(x[k] - x[k-1]**2) ....\n",
    "    df[0] = -400*x[0]*(x[1]-x[0]**2)- 2*(1-x[0])\n",
    "    df[1000] = 200*(x[1000]-x[999]**2)\n",
    "    return np.array(df)\n"
   ]
  },
  {
   "cell_type": "code",
   "execution_count": 138,
   "metadata": {},
   "outputs": [],
   "source": [
    "bfgs_f2_pt, bfgs_f2_conv = bfgs(df2, np.random.rand(2))\n",
    "bfgs_f3_pt, bfgs_f3_conv = bfgs(df3, np.random.rand(2))\n",
    "bfgs_f4_pt, bfgs_f4_conv = bfgs(df4, np.random.rand(2))\n",
    "bfgs_f5_pt, bfgs_f5_conv = bfgs(df5, np.random.rand(2))"
   ]
  },
  {
   "cell_type": "code",
   "execution_count": 139,
   "metadata": {},
   "outputs": [
    {
     "data": {
      "image/png": "[encoded data removed]",
      "text/plain": [
       "<Figure size 432x288 with 1 Axes>"
      ]
     },
     "metadata": {
      "needs_background": "light"
     },
     "output_type": "display_data"
    }
   ],
   "source": [
    "plt.plot(bfgs_f1_conv[:100], label = \"q1\")\n",
    "plt.plot(bfgs_f2_conv[:100], label = \"q2\")\n",
    "plt.plot(bfgs_f3_conv[:100], label = \"q3\")\n",
    "plt.plot(bfgs_f4_conv[:100], label = \"q4\")\n",
    "plt.plot(bfgs_f5_conv[:100], label = \"q5\")\n",
    "plt.title(\"Functions 1-5 BFGS Convergence - first 100 iterations \")\n",
    "plt.legend()\n",
    "plt.show()"
   ]
  },
  {
   "cell_type": "code",
   "execution_count": 140,
   "metadata": {},
   "outputs": [],
   "source": [
    "bfgs_f6_pt, bfgs_f6_conv = bfgs(df6, np.random.rand(5))"
   ]
  },
  {
   "cell_type": "code",
   "execution_count": 148,
   "metadata": {},
   "outputs": [],
   "source": [
    "#q7\n",
    "bfgs_f7_pt, bfgs_f7_conv =bfgs(df7, np.ones(1000)*1.1)\n",
    "#q8 \n",
    "bfgs_f8_pt, bfgs_f8_conv =bfgs(df8, np.ones(1001)*1.3, alpha = .00001)\n"
   ]
  },
  {
   "cell_type": "code",
   "execution_count": 151,
   "metadata": {},
   "outputs": [
    {
     "data": {
      "image/png": "[encoded data removed]",
      "text/plain": [
       "<Figure size 432x288 with 1 Axes>"
      ]
     },
     "metadata": {
      "needs_background": "light"
     },
     "output_type": "display_data"
    }
   ],
   "source": [
    "plt.plot(bfgs_f6_conv[:150], label = \"q6\")\n",
    "plt.plot(bfgs_f7_conv[:150], label = \"q7\")\n",
    "plt.plot(bfgs_f8_conv[:150], label = \"q8\")\n",
    "plt.title(\"Functions 1-5 BFGS Convergence - first 100 iterations \")\n",
    "plt.legend()\n",
    "plt.show()"
   ]
  },
  {
   "cell_type": "code",
   "execution_count": 152,
   "metadata": {},
   "outputs": [
    {
     "data": {
      "text/plain": [
       "Text(0.5, 1.0, 'convergence of only 8')"
      ]
     },
     "execution_count": 152,
     "metadata": {},
     "output_type": "execute_result"
    },
    {
     "data": {
      "image/png": "[encoded data removed]",
      "text/plain": [
       "<Figure size 432x288 with 1 Axes>"
      ]
     },
     "metadata": {
      "needs_background": "light"
     },
     "output_type": "display_data"
    }
   ],
   "source": [
    "plt.plot(bfgs_f8_conv)\n",
    "plt.title(\"convergence of only 8\")"
   ]
  },
  {
   "cell_type": "markdown",
   "metadata": {},
   "source": [
    "So 7 diverges, decreasing to less than 100 but never really approaching zero and having this random stochastic noise. 8 only converges with a super tiny learning rate, if the learning rate was any bigger than .00001, it would also diverge, so it diverges, but the parameters given are that the initial guesses are all rather close to the true minimums 1.3 vs 1.1 and the learning  rate is tiny. "
   ]
  },
  {
   "cell_type": "markdown",
   "metadata": {},
   "source": [
    "###### #4 \n",
    "Final horrible optimization algorithm, I promise). Code up AmsGrad (equation 86 from\n",
    "the review article) which should just be a modification of the code that you already devel-\n",
    "oped for Adam. Do you notice any differences in convergence properties etc. compared\n",
    "with Adam?"
   ]
  },
  {
   "cell_type": "code",
   "execution_count": 73,
   "metadata": {},
   "outputs": [],
   "source": [
    "def ams_grad(f,df,x0, b1=.9, b2=.999, e=.01, m=.9, eta=1e-3,  N=1000, eps = 1e-12):\n",
    "    iteration = 0\n",
    "    fs = []\n",
    "    xold = x0\n",
    "    g = df(xold)\n",
    "    m = b1*np.zeros(len(x0))+(1-b1)*df(xold)\n",
    "    v_old = np.sqrt((1-b2)*df(xold)**2)\n",
    "    xnew = xold  - eta*(sqrt(1-b2))/(1-b1)*m/(v_old+e)\n",
    "    \n",
    "    while np.linalg.norm(xnew-xold)>eps and iteration < N:\n",
    "        \n",
    "        xold = xnew\n",
    "        m = b1*m + (1-b1)*df(xold)\n",
    "        v_new = np.sqrt((b2*v_old)+(1-b2)*df(xold)**2)\n",
    "        xnew =  xold - eta*((sqrt(1-b2))/(1-b1))*m/(v_old+e)\n",
    "        v_new = np.max([np.linalg.norm(v_old),np.linalg.norm(v_new)])\n",
    "        iteration += 1 \n",
    "        fs.append(np.linalg.norm(xnew-xold))\n",
    "    return xnew, fs"
   ]
  },
  {
   "cell_type": "code",
   "execution_count": 158,
   "metadata": {},
   "outputs": [],
   "source": [
    "ams_f1_pt, ams_f1_conv = ams_grad(f1, df1, np.random.rand(2))\n",
    "ams_f2_pt, ams_f2_conv = ams_grad(f2, df2, np.random.rand(2))"
   ]
  },
  {
   "cell_type": "code",
   "execution_count": 159,
   "metadata": {},
   "outputs": [],
   "source": [
    "def adam(f,df,x0, b1=.9, b2=.999, e=.01, m=.9, eta=1e-3,  N=1000, eps = 1e-12):\n",
    "    iteration = 0\n",
    "    fs = []\n",
    "    xold = x0\n",
    "    g = df(xold)\n",
    "    m = b1*np.zeros(len(x0))+(1-b1)*df(xold)\n",
    "    v = np.sqrt((1-b2)*df(xold)**2)\n",
    "    xnew = xold  - eta*(sqrt(1-b2))/(1-b1)*m/(v+e)\n",
    "    \n",
    "    while np.linalg.norm(xnew-xold)>eps and iteration < N:\n",
    "        \n",
    "        xold = xnew\n",
    "        m = b1*m + (1-b1)*df(xold)\n",
    "        v = np.sqrt((b2*v)+(1-b2)*df(xold)**2)\n",
    "        #print(type(v))\n",
    "        xnew =  xold - eta*((sqrt(1-b2))/(1-b1))*m/(v+e)\n",
    "        iteration += 1 \n",
    "        fs.append(np.linalg.norm(xnew-xold))\n",
    "    return xnew, fs"
   ]
  },
  {
   "cell_type": "code",
   "execution_count": 160,
   "metadata": {},
   "outputs": [],
   "source": [
    "m_f1_point, m_f1_vals = adam(f1, df1, np.random.rand(2), e=1e-8, eta=1e-3, N=1000, eps = 1e-12)\n",
    "m_f2_point, m_f2_vals = adam(f2, df2, np.random.rand(2), e=1e-8, eta=1e-3, N=1000, eps = 1e-12)"
   ]
  },
  {
   "cell_type": "code",
   "execution_count": 162,
   "metadata": {},
   "outputs": [
    {
     "data": {
      "image/png": "[encoded data removed]",
      "text/plain": [
       "<Figure size 432x288 with 1 Axes>"
      ]
     },
     "metadata": {
      "needs_background": "light"
     },
     "output_type": "display_data"
    }
   ],
   "source": [
    "plt.plot(ams_f1_conv, label = 'AMS')\n",
    "plt.plot(m_f1_vals, label = \"Adam\")\n",
    "plt.title(\"Examening first function convergence of AMS vs Adam \")\n",
    "plt.legend()\n",
    "plt.show()"
   ]
  },
  {
   "cell_type": "markdown",
   "metadata": {},
   "source": [
    "Here we see  that  both  approaches clearly converge both converge - and relitively at the same  rate, AMS apears  to be worse initiall, but  after about 400 iterations, it  becomes  slightly better "
   ]
  },
  {
   "cell_type": "code",
   "execution_count": 163,
   "metadata": {},
   "outputs": [
    {
     "data": {
      "image/png": "[encoded data removed]",
      "text/plain": [
       "<Figure size 432x288 with 1 Axes>"
      ]
     },
     "metadata": {
      "needs_background": "light"
     },
     "output_type": "display_data"
    }
   ],
   "source": [
    "plt.plot(ams_f2_conv, label = 'AMS')\n",
    "plt.plot(m_f2_vals, label = \"Adam\")\n",
    "plt.title(\"Examening first function convergence of AMS vs Adam \")\n",
    "plt.legend()\n",
    "plt.show()"
   ]
  },
  {
   "cell_type": "markdown",
   "metadata": {},
   "source": [
    "Similar as above,  AMS  starts worse, but then becomes better faster, however,  these two in the limit are  very similar "
   ]
  },
  {
   "cell_type": "code",
   "execution_count": 2,
   "metadata": {},
   "outputs": [],
   "source": [
    "import sympy as sy\n",
    "from sympy import symbols"
   ]
  },
  {
   "cell_type": "code",
   "execution_count": 4,
   "metadata": {},
   "outputs": [
    {
     "data": {
      "text/plain": [
       "<function sympy.functions.elementary.miscellaneous.sqrt(arg, evaluate=None)>"
      ]
     },
     "execution_count": 4,
     "metadata": {},
     "output_type": "execute_result"
    }
   ],
   "source": []
  },
  {
   "cell_type": "code",
   "execution_count": null,
   "metadata": {},
   "outputs": [],
   "source": []
  }
 ],
 "metadata": {
  "kernelspec": {
   "display_name": "Python 3",
   "language": "python",
   "name": "python3"
  },
  "language_info": {
   "codemirror_mode": {
    "name": "ipython",
    "version": 3
   },
   "file_extension": ".py",
   "mimetype": "text/x-python",
   "name": "python",
   "nbconvert_exporter": "python",
   "pygments_lexer": "ipython3",
   "version": "3.8.2"
  }
 },
 "nbformat": 4,
 "nbformat_minor": 4
}
