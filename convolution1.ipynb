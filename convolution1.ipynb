{
 "cells": [
  {
   "cell_type": "code",
   "execution_count": 2,
   "metadata": {
    "id": "g5B7dVl-YCDH"
   },
   "outputs": [],
   "source": [
    "## Imports\n",
    "import torch\n",
    "import torchvision ## Contains some utilities for working with the image data\n",
    "from torchvision.datasets import MNIST\n",
    "import matplotlib.pyplot as plt\n",
    "#%matplotlib inline\n",
    "import torchvision.transforms as transforms\n",
    "from torchvision import datasets\n",
    "from torch.utils.data import random_split\n",
    "from torch.utils.data import DataLoader\n",
    "import torch.nn.functional as F\n",
    "import torch.nn as nn"
   ]
  },
  {
   "cell_type": "code",
   "execution_count": 3,
   "metadata": {
    "id": "O0Y6f8jqYDL4"
   },
   "outputs": [
    {
     "name": "stdout",
     "output_type": "stream",
     "text": [
      "Downloading http://yann.lecun.com/exdb/mnist/train-images-idx3-ubyte.gz\n",
      "Downloading http://yann.lecun.com/exdb/mnist/train-images-idx3-ubyte.gz to ./data/MNIST/raw/train-images-idx3-ubyte.gz\n"
     ]
    },
    {
     "data": {
      "application/vnd.jupyter.widget-view+json": {
       "model_id": "0e46ad1096374b63bfd69e28957cc74c",
       "version_major": 2,
       "version_minor": 0
      },
      "text/plain": [
       "HBox(children=(HTML(value=''), FloatProgress(value=0.0, max=9912422.0), HTML(value='')))"
      ]
     },
     "metadata": {},
     "output_type": "display_data"
    },
    {
     "name": "stdout",
     "output_type": "stream",
     "text": [
      "\n",
      "Extracting ./data/MNIST/raw/train-images-idx3-ubyte.gz to ./data/MNIST/raw\n",
      "\n",
      "Downloading http://yann.lecun.com/exdb/mnist/train-labels-idx1-ubyte.gz\n",
      "Downloading http://yann.lecun.com/exdb/mnist/train-labels-idx1-ubyte.gz to ./data/MNIST/raw/train-labels-idx1-ubyte.gz\n"
     ]
    },
    {
     "data": {
      "application/vnd.jupyter.widget-view+json": {
       "model_id": "1de825aa9fc44413a03387a36c2b0b71",
       "version_major": 2,
       "version_minor": 0
      },
      "text/plain": [
       "HBox(children=(HTML(value=''), FloatProgress(value=0.0, max=28881.0), HTML(value='')))"
      ]
     },
     "metadata": {},
     "output_type": "display_data"
    },
    {
     "name": "stdout",
     "output_type": "stream",
     "text": [
      "\n",
      "Extracting ./data/MNIST/raw/train-labels-idx1-ubyte.gz to ./data/MNIST/raw\n",
      "\n",
      "Downloading http://yann.lecun.com/exdb/mnist/t10k-images-idx3-ubyte.gz\n",
      "Downloading http://yann.lecun.com/exdb/mnist/t10k-images-idx3-ubyte.gz to ./data/MNIST/raw/t10k-images-idx3-ubyte.gz\n"
     ]
    },
    {
     "data": {
      "application/vnd.jupyter.widget-view+json": {
       "model_id": "3ec0ddfea49b43c99c1d91c331e5dd0e",
       "version_major": 2,
       "version_minor": 0
      },
      "text/plain": [
       "HBox(children=(HTML(value=''), FloatProgress(value=0.0, max=1648877.0), HTML(value='')))"
      ]
     },
     "metadata": {},
     "output_type": "display_data"
    },
    {
     "name": "stdout",
     "output_type": "stream",
     "text": [
      "\n",
      "Extracting ./data/MNIST/raw/t10k-images-idx3-ubyte.gz to ./data/MNIST/raw\n",
      "\n",
      "Downloading http://yann.lecun.com/exdb/mnist/t10k-labels-idx1-ubyte.gz\n",
      "Downloading http://yann.lecun.com/exdb/mnist/t10k-labels-idx1-ubyte.gz to ./data/MNIST/raw/t10k-labels-idx1-ubyte.gz\n"
     ]
    },
    {
     "data": {
      "application/vnd.jupyter.widget-view+json": {
       "model_id": "7bc0a3b4998149a5ad5983bffb530bc3",
       "version_major": 2,
       "version_minor": 0
      },
      "text/plain": [
       "HBox(children=(HTML(value=''), FloatProgress(value=0.0, max=4542.0), HTML(value='')))"
      ]
     },
     "metadata": {},
     "output_type": "display_data"
    },
    {
     "name": "stdout",
     "output_type": "stream",
     "text": [
      "\n",
      "Extracting ./data/MNIST/raw/t10k-labels-idx1-ubyte.gz to ./data/MNIST/raw\n",
      "\n"
     ]
    }
   ],
   "source": [
    "mnist_train = datasets.MNIST(\"./data\", train=True, download=True, transform=transforms.ToTensor())\n",
    "mnist_test = datasets.MNIST(\"./data\", train=False, download=True, transform=transforms.ToTensor())\n",
    "\n",
    "train_idx = mnist_train.targets <= 1 #only retrieve those with labels less than this value\n",
    "mnist_train.data = mnist_train.data[train_idx]\n",
    "mnist_train.targets = mnist_train.targets[train_idx]\n",
    "\n",
    "test_idx = mnist_test.targets <= 1 #only retrieve those with labels less than this value\n",
    "mnist_test.data = mnist_test.data[test_idx]\n",
    "mnist_test.targets = mnist_test.targets[test_idx]\n",
    "\n",
    "train_loader = DataLoader(mnist_train, batch_size = 100, shuffle=True)\n",
    "test_loader = DataLoader(mnist_test, batch_size = 100, shuffle=False)"
   ]
  },
  {
   "cell_type": "code",
   "execution_count": 6,
   "metadata": {
    "id": "5AiadOSmYIoZ"
   },
   "outputs": [],
   "source": [
    "def accuracy(outs, targs):\n",
    "    _, preds = torch.max(outs, dim = 1)\n",
    "    return(torch.tensor(torch.sum(preds == targs).item()/ len(preds)))\n",
    "\n",
    "\n",
    "class linear_model(nn.Module):\n",
    "    def __init__(self):\n",
    "        super().__init__()\n",
    "        self.linear = nn.Linear(784, 2)\n",
    "\n",
    "    def forward (self,inp):\n",
    "        inp = inp.reshape(-1, 784)\n",
    "        out = self.linear(inp)\n",
    "        return(out)\n",
    "\n",
    "    def train(self, batch):\n",
    "        imgs, targs = batch\n",
    "        out = self(imgs)\n",
    "        loss = F.cross_entropy(out,targs)\n",
    "        return(loss)\n",
    "\n",
    "    def validate(self, batch):\n",
    "        imgs, targs = batch\n",
    "        out = self(imgs)\n",
    "        loss = F.cross_entropy(out,targs)\n",
    "        acc = accuracy(out,targs)\n",
    "        return({'validate_loss':loss, 'validate_accuracy': acc})\n",
    "\n",
    "    def validate_epoch_end(self, outs):\n",
    "        batch_loss = [x['validate_loss'] for x in outs]\n",
    "        epoch_loss = torch.stack(batch_loss).mean()\n",
    "        batch_accs = [x['validate_accuracy'] for x in outs]\n",
    "        epoch_acc = torch.stack(batch_accs).mean()\n",
    "        return({'validate_loss': epoch_loss.item(), 'validate_accuracy' : epoch_acc.item()})\n",
    "\n",
    "    def epoch_end(self, epoch,result):\n",
    "        print(\"Epoch [{}], validate_loss: {:.4f}, validate_accuracy: {:.4f}\".format(epoch, result['validate_loss'], result['validate_accuracy']))\n",
    "\n",
    "model = linear_model()"
   ]
  },
  {
   "cell_type": "code",
   "execution_count": 7,
   "metadata": {
    "id": "Nc2trbywbMqK"
   },
   "outputs": [],
   "source": [
    "def evaluate(model, test_loader):\n",
    "    outputs = [model.validate(batch) for batch in test_loader]\n",
    "    return(model.validate_epoch_end(outputs))\n",
    "    \n",
    "    \n",
    "def fit(epochs, lr, model, train_loader, test_loader, opt_func = torch.optim.SGD):\n",
    "    history = []\n",
    "    opt = opt_func(model.parameters(), lr)\n",
    "    for epoch in range(epochs):\n",
    "        \n",
    "        ## Training Phase\n",
    "        for batch in train_loader:\n",
    "            loss = model.train(batch)\n",
    "            loss.backward()\n",
    "            opt.step()\n",
    "            opt.zero_grad()\n",
    "        \n",
    "        ## Validation phase\n",
    "        result = evaluate(model, test_loader)\n",
    "        model.epoch_end(epoch, result)\n",
    "        history.append(result)\n",
    "    return(history)"
   ]
  },
  {
   "cell_type": "code",
   "execution_count": 9,
   "metadata": {
    "colab": {
     "base_uri": "https://localhost:8080/"
    },
    "id": "3l8-17GPdREj",
    "outputId": "d6c74110-e3d9-4444-c15d-7343119b652d"
   },
   "outputs": [
    {
     "name": "stdout",
     "output_type": "stream",
     "text": [
      "Epoch [0], validate_loss: 0.0017, validate_accuracy: 0.9995\n",
      "Epoch [1], validate_loss: 0.0017, validate_accuracy: 0.9995\n",
      "Epoch [2], validate_loss: 0.0017, validate_accuracy: 0.9995\n",
      "Epoch [3], validate_loss: 0.0016, validate_accuracy: 0.9995\n",
      "Epoch [4], validate_loss: 0.0016, validate_accuracy: 0.9995\n"
     ]
    }
   ],
   "source": [
    "history1 = fit(5, .01, model, train_loader, test_loader)"
   ]
  },
  {
   "cell_type": "code",
   "execution_count": 30,
   "metadata": {
    "id": "E61n9r-EdXQp"
   },
   "outputs": [],
   "source": [
    "class deep_linear_model(nn.Module):\n",
    "    def __init__(self):\n",
    "        super().__init__()\n",
    "        self.linear1 = nn.Linear(784, 20)\n",
    "        self.linear2 = nn.Linear(20,40)\n",
    "        self.linear3 = nn.Linear(40,6)\n",
    "\n",
    "    def forward (self,inp):\n",
    "        inp = inp.reshape(-1, 784)\n",
    "        intermed1 = self.linear1(inp)\n",
    "        intermed1 = F.relu(intermed1)\n",
    "        intermed2 = self.linear2(intermed1)\n",
    "        intermed2 = F.relu(intermed2)\n",
    "        out = self.linear3(intermed2)\n",
    "        return(out)\n",
    "\n",
    "    def train(self, batch):\n",
    "        imgs, targs = batch\n",
    "        out = self(imgs)\n",
    "        loss = F.cross_entropy(out,targs)\n",
    "        return(loss)\n",
    "\n",
    "    def validate(self, batch):\n",
    "        imgs, targs = batch\n",
    "        out = self(imgs)\n",
    "        loss = F.cross_entropy(out,targs)\n",
    "        acc = accuracy(out,targs)\n",
    "        return({'validate_loss':loss, 'validate_accuracy': acc})\n",
    "\n",
    "    def validate_epoch_end(self, outs):\n",
    "          batch_loss = [x['validate_loss'] for x in outs]\n",
    "          epoch_loss = torch.stack(batch_loss).mean()\n",
    "          batch_accs = [x['validate_accuracy'] for x in outs]\n",
    "          epoch_acc = torch.stack(batch_accs).mean()\n",
    "          return({'validate_loss': epoch_loss.item(), 'validate_accuracy' : epoch_acc.item()})\n",
    "\n",
    "    def epoch_end(self, epoch,result):\n",
    "          print(\"Epoch [{}], validate_loss: {:.4f}, validate_accuracy: {:.4f}\".format(epoch, result['validate_loss'], result['validate_accuracy']))\n",
    "\n",
    "model2 = deep_linear_model()"
   ]
  },
  {
   "cell_type": "code",
   "execution_count": 48,
   "metadata": {
    "colab": {
     "base_uri": "https://localhost:8080/"
    },
    "id": "dMoSam4ogSU5",
    "outputId": "8fba470d-4802-4c36-fa9c-43e32995816d"
   },
   "outputs": [
    {
     "name": "stdout",
     "output_type": "stream",
     "text": [
      "Epoch [0], validate_loss: 0.3983, validate_accuracy: 0.8961\n",
      "Epoch [1], validate_loss: 0.2609, validate_accuracy: 0.9271\n",
      "Epoch [2], validate_loss: 0.2125, validate_accuracy: 0.9392\n",
      "Epoch [3], validate_loss: 0.1860, validate_accuracy: 0.9437\n",
      "Epoch [4], validate_loss: 0.1751, validate_accuracy: 0.9497\n",
      "Epoch [5], validate_loss: 0.1645, validate_accuracy: 0.9497\n",
      "Epoch [6], validate_loss: 0.1580, validate_accuracy: 0.9551\n",
      "Epoch [7], validate_loss: 0.1506, validate_accuracy: 0.9561\n",
      "Epoch [8], validate_loss: 0.1442, validate_accuracy: 0.9573\n",
      "Epoch [9], validate_loss: 0.1424, validate_accuracy: 0.9584\n"
     ]
    }
   ],
   "source": [
    "history2 = fit(10, 0.01, model2, train_loader, test_loader)"
   ]
  },
  {
   "cell_type": "code",
   "execution_count": 49,
   "metadata": {
    "id": "F-o_HywygUDj"
   },
   "outputs": [],
   "source": [
    "class deep_conv_model(nn.Module):\n",
    "    def __init__(self):\n",
    "        super().__init__()\n",
    "        self.conv1 = nn.Conv2d(1,8,3)\n",
    "        self.conv2 = nn.Conv2d(8,1,3)\n",
    "        self.linear1 = nn.Linear(8*8*9,6)\n",
    "\n",
    "    def forward (self,inp):\n",
    "#    inp = inp.reshape(-1, 784)\n",
    "        intermed1 = self.conv1(inp)\n",
    "        intermed1 = F.relu(intermed1)\n",
    "        intermed2 = self.conv2(intermed1)\n",
    "        intermed2 = F.relu(intermed2)\n",
    "        intermed2 = intermed2.view(intermed2.size(0), -1) \n",
    "        out = self.linear1(intermed2)\n",
    "        return(out)\n",
    "\n",
    "    def train(self, batch):\n",
    "        imgs, targs = batch\n",
    "        out = self(imgs)\n",
    "        loss = F.cross_entropy(out,targs)\n",
    "        return(loss)\n",
    "\n",
    "    def validate(self, batch):\n",
    "        imgs, targs = batch\n",
    "        out = self(imgs)\n",
    "        loss = F.cross_entropy(out,targs)\n",
    "        acc = accuracy(out,targs)\n",
    "        return({'validate_loss':loss, 'validate_accuracy': acc})\n",
    "\n",
    "    def validate_epoch_end(self, outs):\n",
    "        batch_loss = [x['validate_loss'] for x in outs]\n",
    "        epoch_loss = torch.stack(batch_loss).mean()\n",
    "        batch_accs = [x['validate_accuracy'] for x in outs]\n",
    "        epoch_acc = torch.stack(batch_accs).mean()\n",
    "        return({'validate_loss': epoch_loss.item(), 'validate_accuracy' : epoch_acc.item()})\n",
    "\n",
    "    def epoch_end(self, epoch,result):\n",
    "        print(\"Epoch [{}], validate_loss: {:.4f}, validate_accuracy: {:.4f}\".format(epoch, result['validate_loss'], result['validate_accuracy']))\n",
    "\n",
    "model3 = deep_conv_model()"
   ]
  },
  {
   "cell_type": "code",
   "execution_count": 50,
   "metadata": {
    "colab": {
     "base_uri": "https://localhost:8080/"
    },
    "id": "5HAhWFWnkfoV",
    "outputId": "dadeeb07-8d85-4f35-a59a-09d918690b72"
   },
   "outputs": [
    {
     "name": "stdout",
     "output_type": "stream",
     "text": [
      "Epoch [0], validate_loss: 1.7619, validate_accuracy: 0.2574\n",
      "Epoch [1], validate_loss: 1.6853, validate_accuracy: 0.5791\n",
      "Epoch [2], validate_loss: 1.3654, validate_accuracy: 0.7409\n",
      "Epoch [3], validate_loss: 0.6109, validate_accuracy: 0.8521\n",
      "Epoch [4], validate_loss: 0.3524, validate_accuracy: 0.8989\n",
      "Epoch [5], validate_loss: 0.2704, validate_accuracy: 0.9235\n",
      "Epoch [6], validate_loss: 0.2323, validate_accuracy: 0.9342\n",
      "Epoch [7], validate_loss: 0.2136, validate_accuracy: 0.9401\n",
      "Epoch [8], validate_loss: 0.1979, validate_accuracy: 0.9414\n",
      "Epoch [9], validate_loss: 0.1896, validate_accuracy: 0.9440\n"
     ]
    }
   ],
   "source": [
    "history3 = fit(10, 0.001, model3, train_loader, test_loader)"
   ]
  },
  {
   "cell_type": "code",
   "execution_count": null,
   "metadata": {
    "id": "jS4pOndXkpwi"
   },
   "outputs": [],
   "source": []
  }
 ],
 "metadata": {
  "colab": {
   "name": "convolution1.ipynb",
   "provenance": []
  },
  "kernelspec": {
   "display_name": "Python 3",
   "language": "python",
   "name": "python3"
  },
  "language_info": {
   "codemirror_mode": {
    "name": "ipython",
    "version": 3
   },
   "file_extension": ".py",
   "mimetype": "text/x-python",
   "name": "python",
   "nbconvert_exporter": "python",
   "pygments_lexer": "ipython3",
   "version": "3.8.2"
  }
 },
 "nbformat": 4,
 "nbformat_minor": 1
}
